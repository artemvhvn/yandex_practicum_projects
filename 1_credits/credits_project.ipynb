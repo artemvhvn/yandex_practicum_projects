{
 "cells": [
  {
   "cell_type": "markdown",
   "id": "0d86c631",
   "metadata": {
    "deletable": false,
    "editable": false,
    "id": "c81daeeb"
   },
   "source": [
    "# Исследование надежности заемщиков\n"
   ]
  },
  {
   "cell_type": "markdown",
   "id": "039b2471",
   "metadata": {
    "deletable": false,
    "editable": false,
    "id": "744d7639"
   },
   "source": [
    "## Откройте таблицу и изучите общую информацию о данных"
   ]
  },
  {
   "cell_type": "markdown",
   "id": "0ef02a7b",
   "metadata": {
    "deletable": false,
    "editable": false,
    "id": "e7a14c31"
   },
   "source": [
    "**Задание 1. Импортируйте библиотеку pandas. Считайте данные из csv-файла в датафрейм и сохраните в переменную `data`. Путь к файлу:**\n",
    "\n",
    "`/datasets/data.csv`"
   ]
  },
  {
   "cell_type": "code",
   "execution_count": 1,
   "id": "447f4d4f",
   "metadata": {
    "deletable": false,
    "id": "7bcf75c9"
   },
   "outputs": [],
   "source": [
    "import pandas as pd\n",
    "\n",
    "try:\n",
    "    data = pd.read_csv('/datasets/data.csv')\n",
    "except:\n",
    "    data = pd.read_csv('https://code.s3.yandex.net/datasets/data.csv')"
   ]
  },
  {
   "cell_type": "markdown",
   "id": "7a149651",
   "metadata": {
    "deletable": false,
    "editable": false,
    "id": "b8038fe3"
   },
   "source": [
    "**Задание 2. Выведите первые 20 строчек датафрейма `data` на экран.**"
   ]
  },
  {
   "cell_type": "code",
   "execution_count": 2,
   "id": "bb7462d2",
   "metadata": {
    "deletable": false,
    "id": "2a7cab99",
    "outputId": "1a8f3ef2-d323-4ec2-ddf7-89670b5944c4"
   },
   "outputs": [
    {
     "data": {
      "text/html": [
       "<div>\n",
       "<style scoped>\n",
       "    .dataframe tbody tr th:only-of-type {\n",
       "        vertical-align: middle;\n",
       "    }\n",
       "\n",
       "    .dataframe tbody tr th {\n",
       "        vertical-align: top;\n",
       "    }\n",
       "\n",
       "    .dataframe thead th {\n",
       "        text-align: right;\n",
       "    }\n",
       "</style>\n",
       "<table border=\"1\" class=\"dataframe\">\n",
       "  <thead>\n",
       "    <tr style=\"text-align: right;\">\n",
       "      <th></th>\n",
       "      <th>children</th>\n",
       "      <th>days_employed</th>\n",
       "      <th>dob_years</th>\n",
       "      <th>education</th>\n",
       "      <th>education_id</th>\n",
       "      <th>family_status</th>\n",
       "      <th>family_status_id</th>\n",
       "      <th>gender</th>\n",
       "      <th>income_type</th>\n",
       "      <th>debt</th>\n",
       "      <th>total_income</th>\n",
       "      <th>purpose</th>\n",
       "    </tr>\n",
       "  </thead>\n",
       "  <tbody>\n",
       "    <tr>\n",
       "      <th>0</th>\n",
       "      <td>1</td>\n",
       "      <td>-8437.673028</td>\n",
       "      <td>42</td>\n",
       "      <td>высшее</td>\n",
       "      <td>0</td>\n",
       "      <td>женат / замужем</td>\n",
       "      <td>0</td>\n",
       "      <td>F</td>\n",
       "      <td>сотрудник</td>\n",
       "      <td>0</td>\n",
       "      <td>253875.639453</td>\n",
       "      <td>покупка жилья</td>\n",
       "    </tr>\n",
       "    <tr>\n",
       "      <th>1</th>\n",
       "      <td>1</td>\n",
       "      <td>-4024.803754</td>\n",
       "      <td>36</td>\n",
       "      <td>среднее</td>\n",
       "      <td>1</td>\n",
       "      <td>женат / замужем</td>\n",
       "      <td>0</td>\n",
       "      <td>F</td>\n",
       "      <td>сотрудник</td>\n",
       "      <td>0</td>\n",
       "      <td>112080.014102</td>\n",
       "      <td>приобретение автомобиля</td>\n",
       "    </tr>\n",
       "    <tr>\n",
       "      <th>2</th>\n",
       "      <td>0</td>\n",
       "      <td>-5623.422610</td>\n",
       "      <td>33</td>\n",
       "      <td>Среднее</td>\n",
       "      <td>1</td>\n",
       "      <td>женат / замужем</td>\n",
       "      <td>0</td>\n",
       "      <td>M</td>\n",
       "      <td>сотрудник</td>\n",
       "      <td>0</td>\n",
       "      <td>145885.952297</td>\n",
       "      <td>покупка жилья</td>\n",
       "    </tr>\n",
       "    <tr>\n",
       "      <th>3</th>\n",
       "      <td>3</td>\n",
       "      <td>-4124.747207</td>\n",
       "      <td>32</td>\n",
       "      <td>среднее</td>\n",
       "      <td>1</td>\n",
       "      <td>женат / замужем</td>\n",
       "      <td>0</td>\n",
       "      <td>M</td>\n",
       "      <td>сотрудник</td>\n",
       "      <td>0</td>\n",
       "      <td>267628.550329</td>\n",
       "      <td>дополнительное образование</td>\n",
       "    </tr>\n",
       "    <tr>\n",
       "      <th>4</th>\n",
       "      <td>0</td>\n",
       "      <td>340266.072047</td>\n",
       "      <td>53</td>\n",
       "      <td>среднее</td>\n",
       "      <td>1</td>\n",
       "      <td>гражданский брак</td>\n",
       "      <td>1</td>\n",
       "      <td>F</td>\n",
       "      <td>пенсионер</td>\n",
       "      <td>0</td>\n",
       "      <td>158616.077870</td>\n",
       "      <td>сыграть свадьбу</td>\n",
       "    </tr>\n",
       "    <tr>\n",
       "      <th>5</th>\n",
       "      <td>0</td>\n",
       "      <td>-926.185831</td>\n",
       "      <td>27</td>\n",
       "      <td>высшее</td>\n",
       "      <td>0</td>\n",
       "      <td>гражданский брак</td>\n",
       "      <td>1</td>\n",
       "      <td>M</td>\n",
       "      <td>компаньон</td>\n",
       "      <td>0</td>\n",
       "      <td>255763.565419</td>\n",
       "      <td>покупка жилья</td>\n",
       "    </tr>\n",
       "    <tr>\n",
       "      <th>6</th>\n",
       "      <td>0</td>\n",
       "      <td>-2879.202052</td>\n",
       "      <td>43</td>\n",
       "      <td>высшее</td>\n",
       "      <td>0</td>\n",
       "      <td>женат / замужем</td>\n",
       "      <td>0</td>\n",
       "      <td>F</td>\n",
       "      <td>компаньон</td>\n",
       "      <td>0</td>\n",
       "      <td>240525.971920</td>\n",
       "      <td>операции с жильем</td>\n",
       "    </tr>\n",
       "    <tr>\n",
       "      <th>7</th>\n",
       "      <td>0</td>\n",
       "      <td>-152.779569</td>\n",
       "      <td>50</td>\n",
       "      <td>СРЕДНЕЕ</td>\n",
       "      <td>1</td>\n",
       "      <td>женат / замужем</td>\n",
       "      <td>0</td>\n",
       "      <td>M</td>\n",
       "      <td>сотрудник</td>\n",
       "      <td>0</td>\n",
       "      <td>135823.934197</td>\n",
       "      <td>образование</td>\n",
       "    </tr>\n",
       "    <tr>\n",
       "      <th>8</th>\n",
       "      <td>2</td>\n",
       "      <td>-6929.865299</td>\n",
       "      <td>35</td>\n",
       "      <td>ВЫСШЕЕ</td>\n",
       "      <td>0</td>\n",
       "      <td>гражданский брак</td>\n",
       "      <td>1</td>\n",
       "      <td>F</td>\n",
       "      <td>сотрудник</td>\n",
       "      <td>0</td>\n",
       "      <td>95856.832424</td>\n",
       "      <td>на проведение свадьбы</td>\n",
       "    </tr>\n",
       "    <tr>\n",
       "      <th>9</th>\n",
       "      <td>0</td>\n",
       "      <td>-2188.756445</td>\n",
       "      <td>41</td>\n",
       "      <td>среднее</td>\n",
       "      <td>1</td>\n",
       "      <td>женат / замужем</td>\n",
       "      <td>0</td>\n",
       "      <td>M</td>\n",
       "      <td>сотрудник</td>\n",
       "      <td>0</td>\n",
       "      <td>144425.938277</td>\n",
       "      <td>покупка жилья для семьи</td>\n",
       "    </tr>\n",
       "    <tr>\n",
       "      <th>10</th>\n",
       "      <td>2</td>\n",
       "      <td>-4171.483647</td>\n",
       "      <td>36</td>\n",
       "      <td>высшее</td>\n",
       "      <td>0</td>\n",
       "      <td>женат / замужем</td>\n",
       "      <td>0</td>\n",
       "      <td>M</td>\n",
       "      <td>компаньон</td>\n",
       "      <td>0</td>\n",
       "      <td>113943.491460</td>\n",
       "      <td>покупка недвижимости</td>\n",
       "    </tr>\n",
       "    <tr>\n",
       "      <th>11</th>\n",
       "      <td>0</td>\n",
       "      <td>-792.701887</td>\n",
       "      <td>40</td>\n",
       "      <td>среднее</td>\n",
       "      <td>1</td>\n",
       "      <td>женат / замужем</td>\n",
       "      <td>0</td>\n",
       "      <td>F</td>\n",
       "      <td>сотрудник</td>\n",
       "      <td>0</td>\n",
       "      <td>77069.234271</td>\n",
       "      <td>покупка коммерческой недвижимости</td>\n",
       "    </tr>\n",
       "    <tr>\n",
       "      <th>12</th>\n",
       "      <td>0</td>\n",
       "      <td>NaN</td>\n",
       "      <td>65</td>\n",
       "      <td>среднее</td>\n",
       "      <td>1</td>\n",
       "      <td>гражданский брак</td>\n",
       "      <td>1</td>\n",
       "      <td>M</td>\n",
       "      <td>пенсионер</td>\n",
       "      <td>0</td>\n",
       "      <td>NaN</td>\n",
       "      <td>сыграть свадьбу</td>\n",
       "    </tr>\n",
       "    <tr>\n",
       "      <th>13</th>\n",
       "      <td>0</td>\n",
       "      <td>-1846.641941</td>\n",
       "      <td>54</td>\n",
       "      <td>неоконченное высшее</td>\n",
       "      <td>2</td>\n",
       "      <td>женат / замужем</td>\n",
       "      <td>0</td>\n",
       "      <td>F</td>\n",
       "      <td>сотрудник</td>\n",
       "      <td>0</td>\n",
       "      <td>130458.228857</td>\n",
       "      <td>приобретение автомобиля</td>\n",
       "    </tr>\n",
       "    <tr>\n",
       "      <th>14</th>\n",
       "      <td>0</td>\n",
       "      <td>-1844.956182</td>\n",
       "      <td>56</td>\n",
       "      <td>высшее</td>\n",
       "      <td>0</td>\n",
       "      <td>гражданский брак</td>\n",
       "      <td>1</td>\n",
       "      <td>F</td>\n",
       "      <td>компаньон</td>\n",
       "      <td>1</td>\n",
       "      <td>165127.911772</td>\n",
       "      <td>покупка жилой недвижимости</td>\n",
       "    </tr>\n",
       "    <tr>\n",
       "      <th>15</th>\n",
       "      <td>1</td>\n",
       "      <td>-972.364419</td>\n",
       "      <td>26</td>\n",
       "      <td>среднее</td>\n",
       "      <td>1</td>\n",
       "      <td>женат / замужем</td>\n",
       "      <td>0</td>\n",
       "      <td>F</td>\n",
       "      <td>сотрудник</td>\n",
       "      <td>0</td>\n",
       "      <td>116820.904450</td>\n",
       "      <td>строительство собственной недвижимости</td>\n",
       "    </tr>\n",
       "    <tr>\n",
       "      <th>16</th>\n",
       "      <td>0</td>\n",
       "      <td>-1719.934226</td>\n",
       "      <td>35</td>\n",
       "      <td>среднее</td>\n",
       "      <td>1</td>\n",
       "      <td>женат / замужем</td>\n",
       "      <td>0</td>\n",
       "      <td>F</td>\n",
       "      <td>сотрудник</td>\n",
       "      <td>0</td>\n",
       "      <td>289202.704229</td>\n",
       "      <td>недвижимость</td>\n",
       "    </tr>\n",
       "    <tr>\n",
       "      <th>17</th>\n",
       "      <td>0</td>\n",
       "      <td>-2369.999720</td>\n",
       "      <td>33</td>\n",
       "      <td>высшее</td>\n",
       "      <td>0</td>\n",
       "      <td>гражданский брак</td>\n",
       "      <td>1</td>\n",
       "      <td>M</td>\n",
       "      <td>сотрудник</td>\n",
       "      <td>0</td>\n",
       "      <td>90410.586745</td>\n",
       "      <td>строительство недвижимости</td>\n",
       "    </tr>\n",
       "    <tr>\n",
       "      <th>18</th>\n",
       "      <td>0</td>\n",
       "      <td>400281.136913</td>\n",
       "      <td>53</td>\n",
       "      <td>среднее</td>\n",
       "      <td>1</td>\n",
       "      <td>вдовец / вдова</td>\n",
       "      <td>2</td>\n",
       "      <td>F</td>\n",
       "      <td>пенсионер</td>\n",
       "      <td>0</td>\n",
       "      <td>56823.777243</td>\n",
       "      <td>на покупку подержанного автомобиля</td>\n",
       "    </tr>\n",
       "    <tr>\n",
       "      <th>19</th>\n",
       "      <td>0</td>\n",
       "      <td>-10038.818549</td>\n",
       "      <td>48</td>\n",
       "      <td>СРЕДНЕЕ</td>\n",
       "      <td>1</td>\n",
       "      <td>в разводе</td>\n",
       "      <td>3</td>\n",
       "      <td>F</td>\n",
       "      <td>сотрудник</td>\n",
       "      <td>0</td>\n",
       "      <td>242831.107982</td>\n",
       "      <td>на покупку своего автомобиля</td>\n",
       "    </tr>\n",
       "  </tbody>\n",
       "</table>\n",
       "</div>"
      ],
      "text/plain": [
       "    children  days_employed  dob_years            education  education_id  \\\n",
       "0          1   -8437.673028         42               высшее             0   \n",
       "1          1   -4024.803754         36              среднее             1   \n",
       "2          0   -5623.422610         33              Среднее             1   \n",
       "3          3   -4124.747207         32              среднее             1   \n",
       "4          0  340266.072047         53              среднее             1   \n",
       "5          0    -926.185831         27               высшее             0   \n",
       "6          0   -2879.202052         43               высшее             0   \n",
       "7          0    -152.779569         50              СРЕДНЕЕ             1   \n",
       "8          2   -6929.865299         35               ВЫСШЕЕ             0   \n",
       "9          0   -2188.756445         41              среднее             1   \n",
       "10         2   -4171.483647         36               высшее             0   \n",
       "11         0    -792.701887         40              среднее             1   \n",
       "12         0            NaN         65              среднее             1   \n",
       "13         0   -1846.641941         54  неоконченное высшее             2   \n",
       "14         0   -1844.956182         56               высшее             0   \n",
       "15         1    -972.364419         26              среднее             1   \n",
       "16         0   -1719.934226         35              среднее             1   \n",
       "17         0   -2369.999720         33               высшее             0   \n",
       "18         0  400281.136913         53              среднее             1   \n",
       "19         0  -10038.818549         48              СРЕДНЕЕ             1   \n",
       "\n",
       "       family_status  family_status_id gender income_type  debt  \\\n",
       "0    женат / замужем                 0      F   сотрудник     0   \n",
       "1    женат / замужем                 0      F   сотрудник     0   \n",
       "2    женат / замужем                 0      M   сотрудник     0   \n",
       "3    женат / замужем                 0      M   сотрудник     0   \n",
       "4   гражданский брак                 1      F   пенсионер     0   \n",
       "5   гражданский брак                 1      M   компаньон     0   \n",
       "6    женат / замужем                 0      F   компаньон     0   \n",
       "7    женат / замужем                 0      M   сотрудник     0   \n",
       "8   гражданский брак                 1      F   сотрудник     0   \n",
       "9    женат / замужем                 0      M   сотрудник     0   \n",
       "10   женат / замужем                 0      M   компаньон     0   \n",
       "11   женат / замужем                 0      F   сотрудник     0   \n",
       "12  гражданский брак                 1      M   пенсионер     0   \n",
       "13   женат / замужем                 0      F   сотрудник     0   \n",
       "14  гражданский брак                 1      F   компаньон     1   \n",
       "15   женат / замужем                 0      F   сотрудник     0   \n",
       "16   женат / замужем                 0      F   сотрудник     0   \n",
       "17  гражданский брак                 1      M   сотрудник     0   \n",
       "18    вдовец / вдова                 2      F   пенсионер     0   \n",
       "19         в разводе                 3      F   сотрудник     0   \n",
       "\n",
       "     total_income                                 purpose  \n",
       "0   253875.639453                           покупка жилья  \n",
       "1   112080.014102                 приобретение автомобиля  \n",
       "2   145885.952297                           покупка жилья  \n",
       "3   267628.550329              дополнительное образование  \n",
       "4   158616.077870                         сыграть свадьбу  \n",
       "5   255763.565419                           покупка жилья  \n",
       "6   240525.971920                       операции с жильем  \n",
       "7   135823.934197                             образование  \n",
       "8    95856.832424                   на проведение свадьбы  \n",
       "9   144425.938277                 покупка жилья для семьи  \n",
       "10  113943.491460                    покупка недвижимости  \n",
       "11   77069.234271       покупка коммерческой недвижимости  \n",
       "12            NaN                         сыграть свадьбу  \n",
       "13  130458.228857                 приобретение автомобиля  \n",
       "14  165127.911772              покупка жилой недвижимости  \n",
       "15  116820.904450  строительство собственной недвижимости  \n",
       "16  289202.704229                            недвижимость  \n",
       "17   90410.586745              строительство недвижимости  \n",
       "18   56823.777243      на покупку подержанного автомобиля  \n",
       "19  242831.107982            на покупку своего автомобиля  "
      ]
     },
     "execution_count": 2,
     "metadata": {},
     "output_type": "execute_result"
    }
   ],
   "source": [
    "data.head(20)"
   ]
  },
  {
   "cell_type": "markdown",
   "id": "e53b6d2e",
   "metadata": {
    "deletable": false,
    "editable": false,
    "id": "1c12e233"
   },
   "source": [
    "**Задание 3. Выведите основную информацию о датафрейме с помощью метода `info()`.**"
   ]
  },
  {
   "cell_type": "code",
   "execution_count": 3,
   "id": "dc61cbba",
   "metadata": {
    "deletable": false,
    "id": "2b757bca",
    "outputId": "15376089-8dad-46c9-b520-c05248d43158"
   },
   "outputs": [
    {
     "name": "stdout",
     "output_type": "stream",
     "text": [
      "<class 'pandas.core.frame.DataFrame'>\n",
      "RangeIndex: 21525 entries, 0 to 21524\n",
      "Data columns (total 12 columns):\n",
      " #   Column            Non-Null Count  Dtype  \n",
      "---  ------            --------------  -----  \n",
      " 0   children          21525 non-null  int64  \n",
      " 1   days_employed     19351 non-null  float64\n",
      " 2   dob_years         21525 non-null  int64  \n",
      " 3   education         21525 non-null  object \n",
      " 4   education_id      21525 non-null  int64  \n",
      " 5   family_status     21525 non-null  object \n",
      " 6   family_status_id  21525 non-null  int64  \n",
      " 7   gender            21525 non-null  object \n",
      " 8   income_type       21525 non-null  object \n",
      " 9   debt              21525 non-null  int64  \n",
      " 10  total_income      19351 non-null  float64\n",
      " 11  purpose           21525 non-null  object \n",
      "dtypes: float64(2), int64(5), object(5)\n",
      "memory usage: 2.0+ MB\n"
     ]
    }
   ],
   "source": [
    "data.info()"
   ]
  },
  {
   "cell_type": "markdown",
   "id": "00401b73",
   "metadata": {
    "deletable": false,
    "editable": false,
    "id": "333ec665"
   },
   "source": [
    "## Предобработка данных"
   ]
  },
  {
   "cell_type": "markdown",
   "id": "2a62ce76",
   "metadata": {
    "deletable": false,
    "editable": false,
    "id": "02d92d53"
   },
   "source": [
    "### Удаление пропусков"
   ]
  },
  {
   "cell_type": "markdown",
   "id": "ddd312da",
   "metadata": {
    "deletable": false,
    "editable": false,
    "id": "cd84967c"
   },
   "source": [
    "**Задание 4. Выведите количество пропущенных значений для каждого столбца. Используйте комбинацию двух методов.**"
   ]
  },
  {
   "cell_type": "code",
   "execution_count": 4,
   "id": "aa60b565",
   "metadata": {
    "deletable": false,
    "id": "7f9b2309",
    "outputId": "81f4d817-781c-465c-ed15-91ce4446810d"
   },
   "outputs": [
    {
     "data": {
      "text/plain": [
       "children               0\n",
       "days_employed       2174\n",
       "dob_years              0\n",
       "education              0\n",
       "education_id           0\n",
       "family_status          0\n",
       "family_status_id       0\n",
       "gender                 0\n",
       "income_type            0\n",
       "debt                   0\n",
       "total_income        2174\n",
       "purpose                0\n",
       "dtype: int64"
      ]
     },
     "execution_count": 4,
     "metadata": {},
     "output_type": "execute_result"
    }
   ],
   "source": [
    "data.isna().sum()"
   ]
  },
  {
   "cell_type": "markdown",
   "id": "609c9190",
   "metadata": {
    "deletable": false,
    "editable": false,
    "id": "db86e27b"
   },
   "source": [
    "**Задание 5. В двух столбцах есть пропущенные значения. Один из них — `days_employed`. Пропуски в этом столбце вы обработаете на следующем этапе. Другой столбец с пропущенными значениями — `total_income` — хранит данные о доходах. На сумму дохода сильнее всего влияет тип занятости, поэтому заполнить пропуски в этом столбце нужно медианным значением по каждому типу из столбца `income_type`. Например, у человека с типом занятости `сотрудник` пропуск в столбце `total_income` должен быть заполнен медианным доходом среди всех записей с тем же типом.**"
   ]
  },
  {
   "cell_type": "code",
   "execution_count": 5,
   "id": "85f4cf4d",
   "metadata": {
    "deletable": false,
    "id": "42006a93"
   },
   "outputs": [],
   "source": [
    "for t in data['income_type'].unique():\n",
    "    data.loc[(data['income_type'] == t) & (data['total_income'].isna()), 'total_income'] = \\\n",
    "    data.loc[(data['income_type'] == t), 'total_income'].median()"
   ]
  },
  {
   "cell_type": "markdown",
   "id": "592038ea",
   "metadata": {
    "deletable": false,
    "editable": false,
    "id": "89da5ece"
   },
   "source": [
    "### Обработка аномальных значений"
   ]
  },
  {
   "cell_type": "markdown",
   "id": "8daec6bd",
   "metadata": {
    "deletable": false,
    "editable": false,
    "id": "57964554"
   },
   "source": [
    "**Задание 6. В данных могут встречаться артефакты (аномалии) — значения, которые не отражают действительность и появились по какой-то ошибке. таким артефактом будет отрицательное количество дней трудового стажа в столбце `days_employed`. Для реальных данных это нормально. Обработайте значения в этом столбце: замените все отрицательные значения положительными с помощью метода `abs()`.**"
   ]
  },
  {
   "cell_type": "code",
   "execution_count": 6,
   "id": "f443fd96",
   "metadata": {
    "deletable": false,
    "id": "f6f055bf"
   },
   "outputs": [],
   "source": [
    "data['days_employed'] = data['days_employed'].abs()"
   ]
  },
  {
   "cell_type": "markdown",
   "id": "f6a58673",
   "metadata": {
    "deletable": false,
    "editable": false,
    "id": "6107dd2f"
   },
   "source": [
    "**Задание 7. Для каждого типа занятости выведите медианное значение трудового стажа `days_employed` в днях.**"
   ]
  },
  {
   "cell_type": "code",
   "execution_count": 7,
   "id": "2b5aa3a2",
   "metadata": {
    "deletable": false,
    "id": "85a5faf6",
    "outputId": "801ef80e-522b-4668-f34e-565af7432bcf"
   },
   "outputs": [
    {
     "data": {
      "text/plain": [
       "income_type\n",
       "безработный        366413.652744\n",
       "в декрете            3296.759962\n",
       "госслужащий          2689.368353\n",
       "компаньон            1547.382223\n",
       "пенсионер          365213.306266\n",
       "предприниматель       520.848083\n",
       "сотрудник            1574.202821\n",
       "студент               578.751554\n",
       "Name: days_employed, dtype: float64"
      ]
     },
     "execution_count": 7,
     "metadata": {},
     "output_type": "execute_result"
    }
   ],
   "source": [
    "data.groupby('income_type')['days_employed'].agg('median')"
   ]
  },
  {
   "cell_type": "markdown",
   "id": "4f6d69df",
   "metadata": {
    "deletable": false,
    "editable": false,
    "id": "38d1a030"
   },
   "source": [
    "У двух типов (безработные и пенсионеры) получатся аномально большие значения. Исправить такие значения сложно, поэтому оставьте их как есть. Тем более этот столбец не понадобится вам для исследования."
   ]
  },
  {
   "cell_type": "markdown",
   "id": "4a9f86d4",
   "metadata": {
    "deletable": false,
    "editable": false,
    "id": "d8a9f147"
   },
   "source": [
    "**Задание 8. Выведите перечень уникальных значений столбца `children`.**"
   ]
  },
  {
   "cell_type": "code",
   "execution_count": 8,
   "id": "2bf56d54",
   "metadata": {
    "deletable": false,
    "id": "ef5056eb",
    "outputId": "6975b15c-7f95-4697-d16d-a0c79b657b03"
   },
   "outputs": [
    {
     "data": {
      "text/plain": [
       "array([ 1,  0,  3,  2, -1,  4, 20,  5])"
      ]
     },
     "execution_count": 8,
     "metadata": {},
     "output_type": "execute_result"
    }
   ],
   "source": [
    "data['children'].unique()"
   ]
  },
  {
   "cell_type": "markdown",
   "id": "ab7cf8be",
   "metadata": {
    "deletable": false,
    "editable": false,
    "id": "40b9ebf2"
   },
   "source": [
    "**Задание 9. В столбце `children` есть два аномальных значения. Удалите строки, в которых встречаются такие аномальные значения из датафрейма `data`.**"
   ]
  },
  {
   "cell_type": "code",
   "execution_count": 9,
   "id": "8eedbfbf",
   "metadata": {
    "deletable": false,
    "id": "3ff9801d"
   },
   "outputs": [],
   "source": [
    "data = data[(data['children'] != -1) & (data['children'] != 20)]"
   ]
  },
  {
   "cell_type": "markdown",
   "id": "e2de30b6",
   "metadata": {
    "deletable": false,
    "editable": false,
    "id": "bbc4d0ce"
   },
   "source": [
    "**Задание 10. Ещё раз выведите перечень уникальных значений столбца `children`, чтобы убедиться, что артефакты удалены.**"
   ]
  },
  {
   "cell_type": "code",
   "execution_count": 10,
   "id": "d16d6f52",
   "metadata": {
    "deletable": false,
    "id": "ad4fa8b7",
    "outputId": "b2097101-d49d-44d9-901b-32a65c9463d1"
   },
   "outputs": [
    {
     "data": {
      "text/plain": [
       "array([1, 0, 3, 2, 4, 5])"
      ]
     },
     "execution_count": 10,
     "metadata": {},
     "output_type": "execute_result"
    }
   ],
   "source": [
    "data['children'].unique()"
   ]
  },
  {
   "cell_type": "markdown",
   "id": "3c4d35fe",
   "metadata": {
    "deletable": false,
    "editable": false,
    "id": "75440b63"
   },
   "source": [
    "### Удаление пропусков (продолжение)"
   ]
  },
  {
   "cell_type": "markdown",
   "id": "f99137f3",
   "metadata": {
    "deletable": false,
    "editable": false,
    "id": "f4ea573f"
   },
   "source": [
    "**Задание 11. Заполните пропуски в столбце `days_employed` медианными значениями по каждого типа занятости `income_type`.**"
   ]
  },
  {
   "cell_type": "code",
   "execution_count": 11,
   "id": "8ed2a6f3",
   "metadata": {
    "deletable": false,
    "id": "af6b1a7e"
   },
   "outputs": [],
   "source": [
    "for t in data['income_type'].unique():\n",
    "    data.loc[(data['income_type'] == t) & (data['days_employed'].isna()), 'days_employed'] = \\\n",
    "    data.loc[(data['income_type'] == t), 'days_employed'].median()"
   ]
  },
  {
   "cell_type": "markdown",
   "id": "b6a5bcf9",
   "metadata": {
    "deletable": false,
    "editable": false,
    "id": "2753f40d"
   },
   "source": [
    "**Задание 12. Убедитесь, что все пропуски заполнены. Проверьте себя и ещё раз выведите количество пропущенных значений для каждого столбца с помощью двух методов.**"
   ]
  },
  {
   "cell_type": "code",
   "execution_count": 12,
   "id": "f21f65aa",
   "metadata": {
    "deletable": false,
    "id": "55f78bc2",
    "outputId": "8da1e4e1-358e-4e87-98c9-f261bce0a7b2"
   },
   "outputs": [
    {
     "data": {
      "text/plain": [
       "children            0\n",
       "days_employed       0\n",
       "dob_years           0\n",
       "education           0\n",
       "education_id        0\n",
       "family_status       0\n",
       "family_status_id    0\n",
       "gender              0\n",
       "income_type         0\n",
       "debt                0\n",
       "total_income        0\n",
       "purpose             0\n",
       "dtype: int64"
      ]
     },
     "execution_count": 12,
     "metadata": {},
     "output_type": "execute_result"
    }
   ],
   "source": [
    "data.isna().sum()"
   ]
  },
  {
   "cell_type": "markdown",
   "id": "4dbacfb2",
   "metadata": {
    "deletable": false,
    "editable": false,
    "id": "ddc81e43"
   },
   "source": [
    "### Изменение типов данных"
   ]
  },
  {
   "cell_type": "markdown",
   "id": "e0f59474",
   "metadata": {
    "deletable": false,
    "editable": false,
    "id": "42d19d24"
   },
   "source": [
    "**Задание 13. Замените вещественный тип данных в столбце `total_income` на целочисленный с помощью метода `astype()`.**"
   ]
  },
  {
   "cell_type": "code",
   "execution_count": 13,
   "id": "a6bdd4d4",
   "metadata": {
    "deletable": false,
    "id": "920b65ad"
   },
   "outputs": [],
   "source": [
    "data['total_income'] = data['total_income'].astype(int)"
   ]
  },
  {
   "cell_type": "markdown",
   "id": "fc7a5a46",
   "metadata": {
    "deletable": false,
    "editable": false,
    "id": "80c420ba"
   },
   "source": [
    "### Обработка дубликатов"
   ]
  },
  {
   "cell_type": "markdown",
   "id": "57d17740",
   "metadata": {
    "deletable": false,
    "editable": false
   },
   "source": [
    "**Задание 14. Обработайте неявные дубликаты в столбце `education`. В этом столбце есть одни и те же значения, но записанные по-разному: с использованием заглавных и строчных букв. Приведите их к нижнему регистру. Проверьте остальные столбцы.**"
   ]
  },
  {
   "cell_type": "code",
   "execution_count": 14,
   "id": "a09fef26",
   "metadata": {
    "deletable": false
   },
   "outputs": [],
   "source": [
    "data['education'] = data['education'].str.lower()"
   ]
  },
  {
   "cell_type": "markdown",
   "id": "e403ca95",
   "metadata": {
    "deletable": false,
    "editable": false,
    "id": "dc587695"
   },
   "source": [
    "**Задание 15. Выведите на экран количество строк-дубликатов в данных. Если такие строки присутствуют, удалите их.**"
   ]
  },
  {
   "cell_type": "code",
   "execution_count": 15,
   "id": "355fd433",
   "metadata": {
    "deletable": false,
    "id": "3ee445e4",
    "outputId": "9684deba-1934-42d1-99e1-cda61740f822"
   },
   "outputs": [
    {
     "data": {
      "text/plain": [
       "71"
      ]
     },
     "execution_count": 15,
     "metadata": {},
     "output_type": "execute_result"
    }
   ],
   "source": [
    "data.duplicated().sum()"
   ]
  },
  {
   "cell_type": "code",
   "execution_count": 16,
   "id": "02fb1db9",
   "metadata": {
    "deletable": false,
    "id": "8575fe05"
   },
   "outputs": [],
   "source": [
    "data = data.drop_duplicates()"
   ]
  },
  {
   "cell_type": "markdown",
   "id": "c0f8cfa0",
   "metadata": {
    "deletable": false,
    "editable": false,
    "id": "9904cf55"
   },
   "source": [
    "### Категоризация данных"
   ]
  },
  {
   "cell_type": "markdown",
   "id": "18fac2dc",
   "metadata": {
    "deletable": false,
    "editable": false,
    "id": "72fcc8a2"
   },
   "source": [
    "**Задание 16. На основании диапазонов, указанных ниже, создайте в датафрейме `data` столбец `total_income_category` с категориями:**\n",
    "\n",
    "- 0–30000 — `'E'`;\n",
    "- 30001–50000 — `'D'`;\n",
    "- 50001–200000 — `'C'`;\n",
    "- 200001–1000000 — `'B'`;\n",
    "- 1000001 и выше — `'A'`.\n",
    "\n",
    "\n",
    "**Например, кредитополучателю с доходом 25000 нужно назначить категорию `'E'`, а клиенту, получающему 235000, — `'B'`. Используйте собственную функцию с именем `categorize_income()` и метод `apply()`.**"
   ]
  },
  {
   "cell_type": "code",
   "execution_count": 17,
   "id": "4286a2be",
   "metadata": {
    "deletable": false,
    "id": "e1771346"
   },
   "outputs": [],
   "source": [
    "def categorize_income(income):\n",
    "    try:\n",
    "        if 0 <= income <= 30000:\n",
    "            return 'E'\n",
    "        elif 30001 <= income <= 50000:\n",
    "            return 'D'\n",
    "        elif 50001 <= income <= 200000:\n",
    "            return 'C'\n",
    "        elif 200001 <= income <= 1000000:\n",
    "            return 'B'\n",
    "        elif income >= 1000001:\n",
    "            return 'A'\n",
    "    except:\n",
    "        pass"
   ]
  },
  {
   "cell_type": "code",
   "execution_count": 18,
   "id": "2e286143",
   "metadata": {
    "deletable": false,
    "id": "d5f3586d"
   },
   "outputs": [],
   "source": [
    "data['total_income_category'] = data['total_income'].apply(categorize_income)"
   ]
  },
  {
   "cell_type": "markdown",
   "id": "62f9e80d",
   "metadata": {
    "deletable": false,
    "editable": false,
    "id": "dde49b5c"
   },
   "source": [
    "**Задание 17. Выведите на экран перечень уникальных целей взятия кредита из столбца `purpose`.**"
   ]
  },
  {
   "cell_type": "code",
   "execution_count": 19,
   "id": "f00f691f",
   "metadata": {
    "deletable": false,
    "id": "f67ce9b3",
    "outputId": "673c12d9-7d7e-4ae0-9812-c622c89dd244"
   },
   "outputs": [
    {
     "data": {
      "text/plain": [
       "array(['покупка жилья', 'приобретение автомобиля',\n",
       "       'дополнительное образование', 'сыграть свадьбу',\n",
       "       'операции с жильем', 'образование', 'на проведение свадьбы',\n",
       "       'покупка жилья для семьи', 'покупка недвижимости',\n",
       "       'покупка коммерческой недвижимости', 'покупка жилой недвижимости',\n",
       "       'строительство собственной недвижимости', 'недвижимость',\n",
       "       'строительство недвижимости', 'на покупку подержанного автомобиля',\n",
       "       'на покупку своего автомобиля',\n",
       "       'операции с коммерческой недвижимостью',\n",
       "       'строительство жилой недвижимости', 'жилье',\n",
       "       'операции со своей недвижимостью', 'автомобили',\n",
       "       'заняться образованием', 'сделка с подержанным автомобилем',\n",
       "       'получение образования', 'автомобиль', 'свадьба',\n",
       "       'получение дополнительного образования', 'покупка своего жилья',\n",
       "       'операции с недвижимостью', 'получение высшего образования',\n",
       "       'свой автомобиль', 'сделка с автомобилем',\n",
       "       'профильное образование', 'высшее образование',\n",
       "       'покупка жилья для сдачи', 'на покупку автомобиля', 'ремонт жилью',\n",
       "       'заняться высшим образованием'], dtype=object)"
      ]
     },
     "execution_count": 19,
     "metadata": {},
     "output_type": "execute_result"
    }
   ],
   "source": [
    "data['purpose'].unique()"
   ]
  },
  {
   "cell_type": "markdown",
   "id": "ab9b472e",
   "metadata": {
    "deletable": false,
    "editable": false,
    "id": "85d0aef0"
   },
   "source": [
    "**Задание 18. Создайте функцию, которая на основании данных из столбца `purpose` сформирует новый столбец `purpose_category`, в который войдут следующие категории:**\n",
    "\n",
    "- `'операции с автомобилем'`,\n",
    "- `'операции с недвижимостью'`,\n",
    "- `'проведение свадьбы'`,\n",
    "- `'получение образования'`.\n",
    "\n",
    "**Например, если в столбце `purpose` находится подстрока `'на покупку автомобиля'`, то в столбце `purpose_category` должна появиться строка `'операции с автомобилем'`.**\n",
    "\n",
    "**Используйте собственную функцию с именем `categorize_purpose()` и метод `apply()`. Изучите данные в столбце `purpose` и определите, какие подстроки помогут вам правильно определить категорию.**"
   ]
  },
  {
   "cell_type": "code",
   "execution_count": 20,
   "id": "11ff751e",
   "metadata": {
    "deletable": false,
    "id": "e149fab4"
   },
   "outputs": [],
   "source": [
    "def categorize_purpose(row):\n",
    "    try:\n",
    "        if 'автом' in row:\n",
    "            return 'операции с автомобилем'\n",
    "        elif 'жил' in row or 'недвиж' in row:\n",
    "            return 'операции с недвижимостью'\n",
    "        elif 'свад' in row:\n",
    "            return 'проведение свадьбы'\n",
    "        elif 'образов' in row:\n",
    "            return 'получение образования'\n",
    "    except:\n",
    "        return 'нет категории'"
   ]
  },
  {
   "cell_type": "code",
   "execution_count": 21,
   "id": "df7f32eb",
   "metadata": {
    "deletable": false,
    "id": "bf36e69b"
   },
   "outputs": [],
   "source": [
    "data['purpose_category'] = data['purpose'].apply(categorize_purpose)"
   ]
  },
  {
   "cell_type": "markdown",
   "id": "f899caac",
   "metadata": {
    "deletable": false,
    "editable": false,
    "id": "09b242bf"
   },
   "source": [
    "### Шаг 3. Исследуйте данные и ответьте на вопросы"
   ]
  },
  {
   "cell_type": "markdown",
   "id": "605baea1",
   "metadata": {
    "deletable": false,
    "editable": false,
    "id": "c5d66278"
   },
   "source": [
    "#### 3.1 Есть ли зависимость между количеством детей и возвратом кредита в срок?"
   ]
  },
  {
   "cell_type": "code",
   "execution_count": 22,
   "id": "447a3b7c",
   "metadata": {
    "deletable": false,
    "id": "2cacfc4a"
   },
   "outputs": [
    {
     "data": {
      "text/plain": [
       "children\n",
       "0    1063\n",
       "1     444\n",
       "2     194\n",
       "3      27\n",
       "4       4\n",
       "5       0\n",
       "Name: debt, dtype: int64"
      ]
     },
     "execution_count": 22,
     "metadata": {},
     "output_type": "execute_result"
    }
   ],
   "source": [
    "# группировка по количеству детей и подсчет количества задолженностей для кажой группы\n",
    "data.groupby('children')['debt'].sum()"
   ]
  },
  {
   "cell_type": "code",
   "execution_count": 23,
   "id": "3e0c3806",
   "metadata": {
    "scrolled": true
   },
   "outputs": [
    {
     "data": {
      "text/plain": [
       "0    14091\n",
       "1     4808\n",
       "2     2052\n",
       "3      330\n",
       "4       41\n",
       "5        9\n",
       "Name: children, dtype: int64"
      ]
     },
     "execution_count": 23,
     "metadata": {},
     "output_type": "execute_result"
    }
   ],
   "source": [
    "# подсчет общего количества клиентов с группировкой по количеству детей\n",
    "data['children'].value_counts()"
   ]
  },
  {
   "cell_type": "code",
   "execution_count": 24,
   "id": "3eaf54f5",
   "metadata": {
    "scrolled": true
   },
   "outputs": [
    {
     "data": {
      "text/plain": [
       "children\n",
       "4    0.097561\n",
       "2    0.094542\n",
       "1    0.092346\n",
       "3    0.081818\n",
       "0    0.075438\n",
       "5    0.000000\n",
       "dtype: float64"
      ]
     },
     "execution_count": 24,
     "metadata": {},
     "output_type": "execute_result"
    }
   ],
   "source": [
    "# отношение должников к общему количеству клиентов, упорядоченное по убыванию\n",
    "(data.groupby('children')['debt'].sum() / data['children'].value_counts()).sort_values(ascending=False)"
   ]
  },
  {
   "cell_type": "markdown",
   "id": "99e8f41a",
   "metadata": {},
   "source": [
    "У клиентов с пятью детьми нет долгов, однако выборка слишком мала - всего 9 человек, поэтому можно этими данными пренебречь. Видно, что процент должников среди людей без детей меньше, попробуем разделить еще на две категории - клиенты с детьми (кроме клиентов с пятью детьми) и клиенты без детей."
   ]
  },
  {
   "cell_type": "code",
   "execution_count": 25,
   "id": "ac6ddfc4",
   "metadata": {},
   "outputs": [
    {
     "data": {
      "text/html": [
       "<div>\n",
       "<style scoped>\n",
       "    .dataframe tbody tr th:only-of-type {\n",
       "        vertical-align: middle;\n",
       "    }\n",
       "\n",
       "    .dataframe tbody tr th {\n",
       "        vertical-align: top;\n",
       "    }\n",
       "\n",
       "    .dataframe thead th {\n",
       "        text-align: right;\n",
       "    }\n",
       "</style>\n",
       "<table border=\"1\" class=\"dataframe\">\n",
       "  <thead>\n",
       "    <tr style=\"text-align: right;\">\n",
       "      <th></th>\n",
       "      <th></th>\n",
       "      <th>clients with debt</th>\n",
       "      <th>all clients</th>\n",
       "      <th>percentage of debtors</th>\n",
       "    </tr>\n",
       "  </thead>\n",
       "  <tbody>\n",
       "    <tr>\n",
       "      <th>0</th>\n",
       "      <td>with children</td>\n",
       "      <td>669</td>\n",
       "      <td>7231</td>\n",
       "      <td>9.251832</td>\n",
       "    </tr>\n",
       "    <tr>\n",
       "      <th>1</th>\n",
       "      <td>without children</td>\n",
       "      <td>1063</td>\n",
       "      <td>14091</td>\n",
       "      <td>7.543822</td>\n",
       "    </tr>\n",
       "  </tbody>\n",
       "</table>\n",
       "</div>"
      ],
      "text/plain": [
       "                     clients with debt  all clients  percentage of debtors\n",
       "0     with children                669         7231               9.251832\n",
       "1  without children               1063        14091               7.543822"
      ]
     },
     "execution_count": 25,
     "metadata": {},
     "output_type": "execute_result"
    }
   ],
   "source": [
    "columns = ['', 'clients with debt', 'all clients', 'percentage of debtors']\n",
    "data_children = [\n",
    "    [\n",
    "        'with children', \n",
    "         data[(data['children'] > 0) & (data['children'] != 5)]['debt'].sum(),\n",
    "         data[(data['children'] > 0) & (data['children'] != 5)]['debt'].count(),\n",
    "         (data[(data['children'] > 0) & (data['children'] != 5)]['debt'].sum() / data[(data['children'] > 0) & (data['children'] != 5)]['debt'].count()) * 100\n",
    "    ],\n",
    "    [\n",
    "        'without children', \n",
    "         data[data['children'] == 0]['debt'].sum(),\n",
    "         data[data['children'] == 0]['debt'].count(),\n",
    "         (data[data['children'] == 0]['debt'].sum() / data[data['children'] == 0]['debt'].count()) * 100\n",
    "    ]\n",
    "]\n",
    "pd.DataFrame(data=data_children, columns=columns)"
   ]
  },
  {
   "cell_type": "markdown",
   "id": "daceab04",
   "metadata": {
    "deletable": false,
    "id": "3a6b99ec"
   },
   "source": [
    "**Вывод:** Количество клиентов без детей существенно больше, чем с детьми, поэтому и должников среди них больше, однако в процентном соотношении все наоборот: только `7,5%` клиентов без детей имеют задолженности. Клиентов с 5-ю детьми можно не учитывать, т.к. выборка недостаточна - всего `9` человек. Таким образом получается, что клиенты без детей чаще возвращают кредиты в срок, чем клиенты с детьми: `7.5%` должников против `9.3%`."
   ]
  },
  {
   "cell_type": "markdown",
   "id": "4dbbe6f4",
   "metadata": {
    "deletable": false,
    "editable": false,
    "id": "97be82ca"
   },
   "source": [
    "#### 3.2 Есть ли зависимость между семейным положением и возвратом кредита в срок?"
   ]
  },
  {
   "cell_type": "code",
   "execution_count": 26,
   "id": "bf1af58e",
   "metadata": {
    "deletable": false,
    "id": "dc3f7ee8"
   },
   "outputs": [
    {
     "data": {
      "text/plain": [
       "family_status\n",
       "Не женат / не замужем    273\n",
       "в разводе                 84\n",
       "вдовец / вдова            63\n",
       "гражданский брак         385\n",
       "женат / замужем          927\n",
       "Name: debt, dtype: int64"
      ]
     },
     "execution_count": 26,
     "metadata": {},
     "output_type": "execute_result"
    }
   ],
   "source": [
    "# группировка по семейному положению и подсчет количества задолженностей для кажой группы\n",
    "data.groupby('family_status')['debt'].sum()"
   ]
  },
  {
   "cell_type": "code",
   "execution_count": 27,
   "id": "05f2a460",
   "metadata": {},
   "outputs": [
    {
     "data": {
      "text/plain": [
       "женат / замужем          12261\n",
       "гражданский брак          4134\n",
       "Не женат / не замужем     2796\n",
       "в разводе                 1189\n",
       "вдовец / вдова             951\n",
       "Name: family_status, dtype: int64"
      ]
     },
     "execution_count": 27,
     "metadata": {},
     "output_type": "execute_result"
    }
   ],
   "source": [
    "# подсчет общего количества клиентов с группировкой по семейному положению\n",
    "data['family_status'].value_counts()"
   ]
  },
  {
   "cell_type": "code",
   "execution_count": 28,
   "id": "0b6e9730",
   "metadata": {
    "scrolled": true
   },
   "outputs": [
    {
     "data": {
      "text/plain": [
       "Не женат / не замужем    0.097639\n",
       "гражданский брак         0.093130\n",
       "женат / замужем          0.075606\n",
       "в разводе                0.070648\n",
       "вдовец / вдова           0.066246\n",
       "dtype: float64"
      ]
     },
     "execution_count": 28,
     "metadata": {},
     "output_type": "execute_result"
    }
   ],
   "source": [
    "# отношение должников к общему количеству клиентов, упорядоченное по убыванию\n",
    "(data.groupby('family_status')['debt'].sum() / data['family_status'].value_counts()) \\\n",
    "    .sort_values(ascending=False)"
   ]
  },
  {
   "cell_type": "markdown",
   "id": "1291620e",
   "metadata": {},
   "source": [
    "Можно заметить, что процент должников, среди людей, которые не состоят и не состояли в зарегистрированном браке не сильно отличается друг от друга, но отличается от остальных категорий. Разделим клиентов еще на две категории - клиенты, состоявшие в зарегистрированном браке и клиенты, которые никогда не регистрировали свои отношения."
   ]
  },
  {
   "cell_type": "code",
   "execution_count": 29,
   "id": "946df952",
   "metadata": {},
   "outputs": [
    {
     "data": {
      "text/html": [
       "<div>\n",
       "<style scoped>\n",
       "    .dataframe tbody tr th:only-of-type {\n",
       "        vertical-align: middle;\n",
       "    }\n",
       "\n",
       "    .dataframe tbody tr th {\n",
       "        vertical-align: top;\n",
       "    }\n",
       "\n",
       "    .dataframe thead th {\n",
       "        text-align: right;\n",
       "    }\n",
       "</style>\n",
       "<table border=\"1\" class=\"dataframe\">\n",
       "  <thead>\n",
       "    <tr style=\"text-align: right;\">\n",
       "      <th></th>\n",
       "      <th></th>\n",
       "      <th>clients with debt</th>\n",
       "      <th>all clients</th>\n",
       "      <th>percentage of debtors</th>\n",
       "    </tr>\n",
       "  </thead>\n",
       "  <tbody>\n",
       "    <tr>\n",
       "      <th>0</th>\n",
       "      <td>registered relationship</td>\n",
       "      <td>1074</td>\n",
       "      <td>14401</td>\n",
       "      <td>7.457815</td>\n",
       "    </tr>\n",
       "    <tr>\n",
       "      <th>1</th>\n",
       "      <td>unregistered relationship</td>\n",
       "      <td>658</td>\n",
       "      <td>6930</td>\n",
       "      <td>9.494949</td>\n",
       "    </tr>\n",
       "  </tbody>\n",
       "</table>\n",
       "</div>"
      ],
      "text/plain": [
       "                              clients with debt  all clients  \\\n",
       "0    registered relationship               1074        14401   \n",
       "1  unregistered relationship                658         6930   \n",
       "\n",
       "   percentage of debtors  \n",
       "0               7.457815  \n",
       "1               9.494949  "
      ]
     },
     "execution_count": 29,
     "metadata": {},
     "output_type": "execute_result"
    }
   ],
   "source": [
    "columns = ['', 'clients with debt', 'all clients', 'percentage of debtors']\n",
    "data_family = [\n",
    "    [\n",
    "        'registered relationship', \n",
    "         data[(data['family_status'] == 'женат / замужем') |\n",
    "              (data['family_status'] == 'в разводе') |\n",
    "              (data['family_status'] == 'вдовец / вдова')]['debt'].sum(),\n",
    "         data[(data['family_status'] == 'женат / замужем') |\n",
    "              (data['family_status'] == 'в разводе') |\n",
    "              (data['family_status'] == 'вдовец / вдова')]['debt'].count(),\n",
    "         (data[(data['family_status'] == 'женат / замужем') |\n",
    "              (data['family_status'] == 'в разводе') |\n",
    "              (data['family_status'] == 'вдовец / вдова')]['debt'].sum() / \n",
    "          data[(data['family_status'] == 'женат / замужем') |\n",
    "              (data['family_status'] == 'в разводе') |\n",
    "              (data['family_status'] == 'вдовец / вдова')]['debt'].count()) * 100\n",
    "    ],\n",
    "    [\n",
    "        'unregistered relationship', \n",
    "         data[(data['family_status'] == 'Не женат / не замужем') |\n",
    "              (data['family_status'] == 'гражданский брак')]['debt'].sum(),\n",
    "         data[(data['family_status'] == 'Не женат / не замужем') |\n",
    "              (data['family_status'] == 'гражданский брак')]['debt'].count(),\n",
    "         (data[(data['family_status'] == 'Не женат / не замужем') |\n",
    "              (data['family_status'] == 'гражданский брак')]['debt'].sum() / \n",
    "          data[(data['family_status'] == 'Не женат / не замужем') |\n",
    "              (data['family_status'] == 'гражданский брак')]['debt'].count()) * 100\n",
    "    ]\n",
    "]\n",
    "pd.DataFrame(data=data_family, columns=columns)"
   ]
  },
  {
   "cell_type": "markdown",
   "id": "7a1919e2",
   "metadata": {
    "deletable": false,
    "id": "1cef7837"
   },
   "source": [
    "**Вывод:** Клиенты, которые не состоят и не состояли в зарегистрированных отношениях чаще имеют задолженности по кредитам, чем люди, которые вступали в такие отношения (`9.5%` против `7.5%`). Разница внутри данных категорий не слишком выражена: неженатые люди и состоящие в гражданском браке имеют примерно одинаковый процент должников, женатые / в разводе / вдовцы также не имеют существенных различий."
   ]
  },
  {
   "cell_type": "markdown",
   "id": "026c07f3",
   "metadata": {
    "deletable": false,
    "editable": false,
    "id": "1e8b2fca"
   },
   "source": [
    "#### 3.3 Есть ли зависимость между уровнем дохода и возвратом кредита в срок?"
   ]
  },
  {
   "cell_type": "code",
   "execution_count": 30,
   "id": "683a9986",
   "metadata": {
    "deletable": false,
    "id": "cd7e3720"
   },
   "outputs": [],
   "source": [
    "# Ваш код будет здесь. Вы можете создавать новые ячейки."
   ]
  },
  {
   "cell_type": "code",
   "execution_count": 31,
   "id": "35dc4264",
   "metadata": {},
   "outputs": [
    {
     "data": {
      "text/plain": [
       "total_income_category\n",
       "A       2\n",
       "B     354\n",
       "C    1353\n",
       "D      21\n",
       "E       2\n",
       "Name: debt, dtype: int64"
      ]
     },
     "execution_count": 31,
     "metadata": {},
     "output_type": "execute_result"
    }
   ],
   "source": [
    "# группировка по категории дохода и подсчет количества задолженностей для кажой группы\n",
    "data.groupby('total_income_category')['debt'].sum()"
   ]
  },
  {
   "cell_type": "code",
   "execution_count": 32,
   "id": "a6f2007c",
   "metadata": {},
   "outputs": [
    {
     "data": {
      "text/plain": [
       "C    15921\n",
       "B     5014\n",
       "D      349\n",
       "A       25\n",
       "E       22\n",
       "Name: total_income_category, dtype: int64"
      ]
     },
     "execution_count": 32,
     "metadata": {},
     "output_type": "execute_result"
    }
   ],
   "source": [
    "# подсчет общего количества клиентов с группировкой по категории дохода\n",
    "data['total_income_category'].value_counts()"
   ]
  },
  {
   "cell_type": "code",
   "execution_count": 33,
   "id": "5ecc71fb",
   "metadata": {},
   "outputs": [
    {
     "data": {
      "text/plain": [
       "E    0.090909\n",
       "C    0.084982\n",
       "A    0.080000\n",
       "B    0.070602\n",
       "D    0.060172\n",
       "dtype: float64"
      ]
     },
     "execution_count": 33,
     "metadata": {},
     "output_type": "execute_result"
    }
   ],
   "source": [
    "# отношение должников к общему количеству клиентов, упорядоченное по убыванию\n",
    "(data.groupby('total_income_category')['debt'].sum() / \n",
    " data['total_income_category'].value_counts()). \\\n",
    "    sort_values(ascending=False)"
   ]
  },
  {
   "cell_type": "markdown",
   "id": "15dd91fb",
   "metadata": {
    "deletable": false,
    "id": "e8593def"
   },
   "source": [
    "**Вывод:** Всего `6%` клиентов из категории `D` и `7%` из категории `B` имеют долги, это самые низкие показатели. Можно предположить, что клиенты, которые имеют доходы несколько выше минимальных и несколько ниже максимальных, имеют меньше задолженностей, чем клиенты, входящие в категории минимальных, максимальных и средних доходов."
   ]
  },
  {
   "cell_type": "markdown",
   "id": "c469c894",
   "metadata": {
    "deletable": false,
    "editable": false,
    "id": "99ecbd1f"
   },
   "source": [
    "#### 3.4 Как разные цели кредита влияют на его возврат в срок?"
   ]
  },
  {
   "cell_type": "code",
   "execution_count": 34,
   "id": "f678beda",
   "metadata": {
    "deletable": false,
    "id": "2b687290"
   },
   "outputs": [
    {
     "data": {
      "text/plain": [
       "purpose_category\n",
       "операции с недвижимостью    780\n",
       "операции с автомобилем      400\n",
       "получение образования       369\n",
       "проведение свадьбы          183\n",
       "Name: debt, dtype: int64"
      ]
     },
     "execution_count": 34,
     "metadata": {},
     "output_type": "execute_result"
    }
   ],
   "source": [
    "# Ваш код будет здесь. Вы можете создавать новые ячейки.\n",
    "data.groupby('purpose_category')['debt'].sum().sort_values(ascending=False)"
   ]
  },
  {
   "cell_type": "code",
   "execution_count": 35,
   "id": "3c7bf8b8",
   "metadata": {},
   "outputs": [
    {
     "data": {
      "text/plain": [
       "операции с недвижимостью    10751\n",
       "операции с автомобилем       4279\n",
       "получение образования        3988\n",
       "проведение свадьбы           2313\n",
       "Name: purpose_category, dtype: int64"
      ]
     },
     "execution_count": 35,
     "metadata": {},
     "output_type": "execute_result"
    }
   ],
   "source": [
    "data['purpose_category'].value_counts()\n"
   ]
  },
  {
   "cell_type": "code",
   "execution_count": 36,
   "id": "fa94ef5a",
   "metadata": {},
   "outputs": [
    {
     "data": {
      "text/plain": [
       "операции с автомобилем      0.093480\n",
       "получение образования       0.092528\n",
       "проведение свадьбы          0.079118\n",
       "операции с недвижимостью    0.072551\n",
       "dtype: float64"
      ]
     },
     "execution_count": 36,
     "metadata": {},
     "output_type": "execute_result"
    }
   ],
   "source": [
    "\n",
    "(data.groupby('purpose_category')['debt'].sum() / data['purpose_category'].value_counts()). \\\n",
    "    sort_values(ascending=False)\n"
   ]
  },
  {
   "cell_type": "markdown",
   "id": "4007abd9",
   "metadata": {
    "deletable": false,
    "id": "b4bb2ce6"
   },
   "source": [
    "**Вывод:** При оперциях с недвижимостью и проведении свадьбы процент должников существенно не отличается, также как при операциях с автомобилем и получением образования. Можно сказать, что при проведении свадьбы и операциях с недвижимостью должников будет меньше на `1.4-2%`."
   ]
  },
  {
   "cell_type": "markdown",
   "id": "11f30a3b",
   "metadata": {
    "deletable": false,
    "editable": false,
    "id": "09c3ac4c"
   },
   "source": [
    "#### 3.5 Приведите возможные причины появления пропусков в исходных данных."
   ]
  },
  {
   "cell_type": "markdown",
   "id": "7e76908f",
   "metadata": {
    "deletable": false,
    "id": "9da2ceda"
   },
   "source": [
    "*Ответ:* Пропуски в исходных данных находятся в колонках `days_employed` и `total_income` - это дни трудового стажа и доходы клиентов. Такие пропуски могли возникнуть из-за того, что эти данные не предоставил клиент. Также возможно, что клиент не работал официально, поэтому трудовой стаж и доход неизвестен."
   ]
  },
  {
   "cell_type": "markdown",
   "id": "14db05df",
   "metadata": {
    "deletable": false,
    "editable": false,
    "id": "7b0487d6"
   },
   "source": [
    "#### 3.6 Объясните, почему заполнить пропуски медианным значением — лучшее решение для количественных переменных."
   ]
  },
  {
   "cell_type": "markdown",
   "id": "f312c517",
   "metadata": {
    "deletable": false,
    "id": "7ecf2b8e"
   },
   "source": [
    "*Ответ:* Возможно наличие значений сильно отличающихся от основной массы. Например, в данном проекте мы заполняли медианным значением пропуски по доходам в зависимости от типа занятости: могли быть клиенты, которые имели сильно высокие доходы в данной категории и они увеличивали бы значение, если бы мы взяли среднее арифметическое. "
   ]
  },
  {
   "cell_type": "markdown",
   "id": "fa2cbdeb",
   "metadata": {
    "deletable": false,
    "editable": false,
    "id": "6db5255a"
   },
   "source": [
    "### Шаг 4: общий вывод."
   ]
  },
  {
   "cell_type": "markdown",
   "id": "ff0c0968",
   "metadata": {
    "deletable": false,
    "id": "bad65432"
   },
   "source": [
    "**Есть ли зависимость между количеством детей и возвратом кредита в срок?**\n",
    "\n",
    "Имеется зависимость только от наличия детей. Люди без детей реже имеют задолженности по кредитам. От количества, если есть уже хоть один ребенок, зависимости существенной нет.\n"
   ]
  },
  {
   "cell_type": "markdown",
   "id": "954d9363",
   "metadata": {},
   "source": [
    "**Есть ли зависимость между семейным положением и возвратом кредита в срок?**\n",
    "\n",
    "Люди, которые состоят или когда-либо состояли в зарегистрированных отношениях, чаще возвращают кредит в срок, чем люди, которые никогда в таких отношениях не состояли. Зависимости среди внутренних подкатегорий нет.\n"
   ]
  },
  {
   "cell_type": "markdown",
   "id": "219089ff",
   "metadata": {},
   "source": [
    "**Есть ли зависимость между уровнем дохода и возвратом кредита в срок?**\n",
    "\n",
    "Люди, которые имеют доход несколько выше минимального, но ниже среднего, а также те, кто имеет доход выше среднего, но ниже максимального, реже имеют долги по кредитам. Клиенты с самыми низкими, самыми выскоми и средними доходами чаще имеют задолженности и существенно не отличаются друг от друга."
   ]
  },
  {
   "cell_type": "markdown",
   "id": "7dd05989",
   "metadata": {},
   "source": [
    "**Как разные цели кредита влияют на его возврат в срок?**\n",
    "\n",
    "Среди людей, которые берут кредит для операций с недвижимостью и для проведении свадьбы, должников меньше, чем среди тех, кто берет кредит для получения образования и операций с автомобилем."
   ]
  }
 ],
 "metadata": {
  "ExecuteTimeLog": [
   {
    "duration": 375,
    "start_time": "2022-10-19T15:22:36.160Z"
   },
   {
    "duration": 1037,
    "start_time": "2022-10-20T10:33:38.122Z"
   },
   {
    "duration": 28,
    "start_time": "2022-10-20T10:33:39.251Z"
   },
   {
    "duration": 18,
    "start_time": "2022-10-20T10:33:41.296Z"
   },
   {
    "duration": 11,
    "start_time": "2022-10-20T10:33:42.581Z"
   },
   {
    "duration": 48,
    "start_time": "2022-10-20T10:33:43.129Z"
   },
   {
    "duration": 5,
    "start_time": "2022-10-20T10:33:43.968Z"
   },
   {
    "duration": 12,
    "start_time": "2022-10-20T10:33:44.550Z"
   },
   {
    "duration": 5,
    "start_time": "2022-10-20T10:33:45.267Z"
   },
   {
    "duration": 10,
    "start_time": "2022-10-20T10:33:45.754Z"
   },
   {
    "duration": 11,
    "start_time": "2022-10-20T10:33:46.219Z"
   },
   {
    "duration": 49,
    "start_time": "2022-10-20T10:33:47.138Z"
   },
   {
    "duration": 15,
    "start_time": "2022-10-20T10:33:47.912Z"
   },
   {
    "duration": 4,
    "start_time": "2022-10-20T10:33:49.108Z"
   },
   {
    "duration": 17,
    "start_time": "2022-10-20T10:33:50.058Z"
   },
   {
    "duration": 31,
    "start_time": "2022-10-20T10:33:50.650Z"
   },
   {
    "duration": 20,
    "start_time": "2022-10-20T10:33:50.993Z"
   },
   {
    "duration": 4,
    "start_time": "2022-10-20T10:33:52.066Z"
   },
   {
    "duration": 10,
    "start_time": "2022-10-20T10:33:52.794Z"
   },
   {
    "duration": 7,
    "start_time": "2022-10-20T10:33:53.550Z"
   },
   {
    "duration": 3,
    "start_time": "2022-10-20T10:33:54.209Z"
   },
   {
    "duration": 13,
    "start_time": "2022-10-20T10:33:54.502Z"
   },
   {
    "duration": 2,
    "start_time": "2022-10-20T10:33:56.516Z"
   },
   {
    "duration": 26,
    "start_time": "2022-10-20T10:34:14.923Z"
   },
   {
    "duration": 5,
    "start_time": "2022-10-20T10:37:31.704Z"
   },
   {
    "duration": 16,
    "start_time": "2022-10-20T10:37:36.022Z"
   },
   {
    "duration": 26,
    "start_time": "2022-10-20T10:42:56.159Z"
   },
   {
    "duration": 22,
    "start_time": "2022-10-20T10:48:54.163Z"
   },
   {
    "duration": 44,
    "start_time": "2022-10-20T10:48:58.968Z"
   },
   {
    "duration": 86,
    "start_time": "2022-10-20T10:51:46.366Z"
   },
   {
    "duration": 32,
    "start_time": "2022-10-20T10:52:10.851Z"
   },
   {
    "duration": 6,
    "start_time": "2022-10-20T10:54:06.772Z"
   },
   {
    "duration": 18,
    "start_time": "2022-10-20T10:56:13.422Z"
   },
   {
    "duration": 8,
    "start_time": "2022-10-20T10:56:21.049Z"
   },
   {
    "duration": 6,
    "start_time": "2022-10-20T10:56:35.889Z"
   },
   {
    "duration": 11,
    "start_time": "2022-10-20T10:57:31.868Z"
   },
   {
    "duration": 19,
    "start_time": "2022-10-20T11:00:19.449Z"
   },
   {
    "duration": 7,
    "start_time": "2022-10-20T11:01:07.860Z"
   },
   {
    "duration": 1593,
    "start_time": "2022-10-20T11:01:36.415Z"
   },
   {
    "duration": 21,
    "start_time": "2022-10-20T11:01:50.316Z"
   },
   {
    "duration": 21,
    "start_time": "2022-10-20T11:02:00.491Z"
   },
   {
    "duration": 9,
    "start_time": "2022-10-20T11:03:31.570Z"
   },
   {
    "duration": 21,
    "start_time": "2022-10-20T11:03:44.751Z"
   },
   {
    "duration": 11,
    "start_time": "2022-10-20T11:04:08.274Z"
   },
   {
    "duration": 6,
    "start_time": "2022-10-20T11:04:18.659Z"
   },
   {
    "duration": 11,
    "start_time": "2022-10-20T11:04:23.993Z"
   },
   {
    "duration": 7,
    "start_time": "2022-10-20T11:12:39.300Z"
   },
   {
    "duration": 10,
    "start_time": "2022-10-20T11:12:58.552Z"
   },
   {
    "duration": 14,
    "start_time": "2022-10-20T11:13:09.544Z"
   },
   {
    "duration": 11,
    "start_time": "2022-10-20T11:14:17.272Z"
   },
   {
    "duration": 12,
    "start_time": "2022-10-20T11:14:20.916Z"
   },
   {
    "duration": 13,
    "start_time": "2022-10-20T11:14:30.450Z"
   },
   {
    "duration": 19,
    "start_time": "2022-10-20T11:14:44.723Z"
   },
   {
    "duration": 12,
    "start_time": "2022-10-20T11:15:09.306Z"
   },
   {
    "duration": 9,
    "start_time": "2022-10-20T11:15:25.907Z"
   },
   {
    "duration": 8,
    "start_time": "2022-10-20T11:15:48.984Z"
   },
   {
    "duration": 8,
    "start_time": "2022-10-20T11:15:54.552Z"
   },
   {
    "duration": 11,
    "start_time": "2022-10-20T11:16:18.146Z"
   },
   {
    "duration": 6,
    "start_time": "2022-10-20T11:16:45.070Z"
   },
   {
    "duration": 10,
    "start_time": "2022-10-20T11:16:51.979Z"
   },
   {
    "duration": 9,
    "start_time": "2022-10-20T11:17:36.048Z"
   },
   {
    "duration": 11,
    "start_time": "2022-10-20T11:17:42.643Z"
   },
   {
    "duration": 10,
    "start_time": "2022-10-20T11:17:46.309Z"
   },
   {
    "duration": 11,
    "start_time": "2022-10-20T11:17:52.649Z"
   },
   {
    "duration": 9,
    "start_time": "2022-10-20T11:17:55.145Z"
   },
   {
    "duration": 14,
    "start_time": "2022-10-20T11:17:58.056Z"
   },
   {
    "duration": 117,
    "start_time": "2022-10-20T11:18:28.050Z"
   },
   {
    "duration": 11,
    "start_time": "2022-10-20T11:18:39.979Z"
   },
   {
    "duration": 11,
    "start_time": "2022-10-20T11:18:45.890Z"
   },
   {
    "duration": 12,
    "start_time": "2022-10-20T11:18:55.147Z"
   },
   {
    "duration": 9,
    "start_time": "2022-10-20T11:19:05.766Z"
   },
   {
    "duration": 12,
    "start_time": "2022-10-20T11:19:10.969Z"
   },
   {
    "duration": 8,
    "start_time": "2022-10-20T11:21:27.460Z"
   },
   {
    "duration": 14,
    "start_time": "2022-10-20T11:21:38.033Z"
   },
   {
    "duration": 19,
    "start_time": "2022-10-20T11:22:06.924Z"
   },
   {
    "duration": 14,
    "start_time": "2022-10-20T11:24:25.781Z"
   },
   {
    "duration": 14,
    "start_time": "2022-10-20T11:24:37.307Z"
   },
   {
    "duration": 22,
    "start_time": "2022-10-20T11:24:42.118Z"
   },
   {
    "duration": 10,
    "start_time": "2022-10-20T11:25:08.094Z"
   },
   {
    "duration": 7,
    "start_time": "2022-10-20T11:25:32.514Z"
   },
   {
    "duration": 12,
    "start_time": "2022-10-20T11:25:40.247Z"
   },
   {
    "duration": 15,
    "start_time": "2022-10-20T11:26:23.876Z"
   },
   {
    "duration": 14,
    "start_time": "2022-10-20T11:26:34.160Z"
   },
   {
    "duration": 12,
    "start_time": "2022-10-20T11:27:11.802Z"
   },
   {
    "duration": 8,
    "start_time": "2022-10-20T11:27:15.992Z"
   },
   {
    "duration": 17,
    "start_time": "2022-10-20T11:27:19.947Z"
   },
   {
    "duration": 13,
    "start_time": "2022-10-20T11:27:39.490Z"
   },
   {
    "duration": 12,
    "start_time": "2022-10-20T11:31:56.255Z"
   },
   {
    "duration": 8,
    "start_time": "2022-10-20T11:32:00.086Z"
   },
   {
    "duration": 8,
    "start_time": "2022-10-20T11:32:30.514Z"
   },
   {
    "duration": 9,
    "start_time": "2022-10-20T11:32:50.450Z"
   },
   {
    "duration": 9,
    "start_time": "2022-10-20T11:32:54.979Z"
   },
   {
    "duration": 8,
    "start_time": "2022-10-20T11:33:07.012Z"
   },
   {
    "duration": 10,
    "start_time": "2022-10-20T11:33:12.204Z"
   },
   {
    "duration": 11,
    "start_time": "2022-10-20T11:35:40.669Z"
   },
   {
    "duration": 17,
    "start_time": "2022-10-20T11:35:48.337Z"
   },
   {
    "duration": 7,
    "start_time": "2022-10-20T11:35:57.460Z"
   },
   {
    "duration": 11,
    "start_time": "2022-10-20T11:36:44.477Z"
   },
   {
    "duration": 13,
    "start_time": "2022-10-20T11:41:01.809Z"
   },
   {
    "duration": 15,
    "start_time": "2022-10-20T11:41:17.250Z"
   },
   {
    "duration": 28,
    "start_time": "2022-10-20T11:54:16.315Z"
   },
   {
    "duration": 12,
    "start_time": "2022-10-20T11:54:30.965Z"
   },
   {
    "duration": 10,
    "start_time": "2022-10-20T11:54:36.998Z"
   },
   {
    "duration": 20,
    "start_time": "2022-10-20T11:54:54.634Z"
   },
   {
    "duration": 11,
    "start_time": "2022-10-20T11:54:57.364Z"
   },
   {
    "duration": 15,
    "start_time": "2022-10-20T11:55:38.751Z"
   },
   {
    "duration": 8,
    "start_time": "2022-10-20T11:55:42.846Z"
   },
   {
    "duration": 13,
    "start_time": "2022-10-20T11:55:45.941Z"
   },
   {
    "duration": 26,
    "start_time": "2022-10-20T11:55:48.123Z"
   },
   {
    "duration": 11,
    "start_time": "2022-10-20T12:07:06.336Z"
   },
   {
    "duration": 10,
    "start_time": "2022-10-20T12:07:28.725Z"
   },
   {
    "duration": 57,
    "start_time": "2022-10-21T07:19:54.146Z"
   },
   {
    "duration": 933,
    "start_time": "2022-10-21T07:20:01.707Z"
   },
   {
    "duration": 27,
    "start_time": "2022-10-21T07:20:02.643Z"
   },
   {
    "duration": 209,
    "start_time": "2022-10-21T07:20:02.750Z"
   },
   {
    "duration": 11,
    "start_time": "2022-10-21T07:20:03.551Z"
   },
   {
    "duration": 43,
    "start_time": "2022-10-21T07:20:03.917Z"
   },
   {
    "duration": 5,
    "start_time": "2022-10-21T07:20:04.581Z"
   },
   {
    "duration": 8,
    "start_time": "2022-10-21T07:20:04.976Z"
   },
   {
    "duration": 6,
    "start_time": "2022-10-21T07:20:05.644Z"
   },
   {
    "duration": 7,
    "start_time": "2022-10-21T07:20:06.056Z"
   },
   {
    "duration": 7,
    "start_time": "2022-10-21T07:20:06.545Z"
   },
   {
    "duration": 56,
    "start_time": "2022-10-21T07:20:07.280Z"
   },
   {
    "duration": 11,
    "start_time": "2022-10-21T07:20:07.810Z"
   },
   {
    "duration": 4,
    "start_time": "2022-10-21T07:20:08.640Z"
   },
   {
    "duration": 11,
    "start_time": "2022-10-21T07:20:09.364Z"
   },
   {
    "duration": 32,
    "start_time": "2022-10-21T07:20:09.953Z"
   },
   {
    "duration": 16,
    "start_time": "2022-10-21T07:20:10.236Z"
   },
   {
    "duration": 4,
    "start_time": "2022-10-21T07:20:11.148Z"
   },
   {
    "duration": 14,
    "start_time": "2022-10-21T07:20:11.424Z"
   },
   {
    "duration": 12,
    "start_time": "2022-10-21T07:20:11.992Z"
   },
   {
    "duration": 7,
    "start_time": "2022-10-21T07:20:12.615Z"
   },
   {
    "duration": 15,
    "start_time": "2022-10-21T07:20:12.872Z"
   },
   {
    "duration": 9,
    "start_time": "2022-10-21T07:20:13.656Z"
   },
   {
    "duration": 10,
    "start_time": "2022-10-21T07:20:13.918Z"
   },
   {
    "duration": 12,
    "start_time": "2022-10-21T07:20:14.204Z"
   },
   {
    "duration": 13,
    "start_time": "2022-10-21T07:20:15.011Z"
   },
   {
    "duration": 10,
    "start_time": "2022-10-21T07:20:15.294Z"
   },
   {
    "duration": 16,
    "start_time": "2022-10-21T07:20:15.580Z"
   },
   {
    "duration": 2,
    "start_time": "2022-10-21T07:20:16.936Z"
   },
   {
    "duration": 8,
    "start_time": "2022-10-21T07:20:17.275Z"
   },
   {
    "duration": 9,
    "start_time": "2022-10-21T07:20:17.560Z"
   },
   {
    "duration": 11,
    "start_time": "2022-10-21T07:20:17.955Z"
   },
   {
    "duration": 8,
    "start_time": "2022-10-21T07:20:19.302Z"
   },
   {
    "duration": 11,
    "start_time": "2022-10-21T07:20:20.010Z"
   },
   {
    "duration": 18,
    "start_time": "2022-10-21T07:20:21.843Z"
   },
   {
    "duration": 709,
    "start_time": "2022-10-21T07:23:54.071Z"
   },
   {
    "duration": 19,
    "start_time": "2022-10-21T07:25:12.658Z"
   },
   {
    "duration": 20,
    "start_time": "2022-10-21T07:25:17.632Z"
   },
   {
    "duration": 101,
    "start_time": "2022-10-21T07:25:32.242Z"
   },
   {
    "duration": 111,
    "start_time": "2022-10-21T07:25:36.143Z"
   },
   {
    "duration": 12,
    "start_time": "2022-10-21T07:25:39.311Z"
   },
   {
    "duration": 10,
    "start_time": "2022-10-21T07:25:51.526Z"
   },
   {
    "duration": 13,
    "start_time": "2022-10-21T07:26:07.039Z"
   },
   {
    "duration": 8,
    "start_time": "2022-10-21T07:26:32.627Z"
   },
   {
    "duration": 15,
    "start_time": "2022-10-21T07:26:48.427Z"
   },
   {
    "duration": 11,
    "start_time": "2022-10-21T07:26:57.868Z"
   },
   {
    "duration": 14,
    "start_time": "2022-10-21T07:27:22.827Z"
   },
   {
    "duration": 14,
    "start_time": "2022-10-21T07:27:40.211Z"
   },
   {
    "duration": 7,
    "start_time": "2022-10-21T07:27:41.443Z"
   },
   {
    "duration": 13,
    "start_time": "2022-10-21T07:27:42.721Z"
   },
   {
    "duration": 5,
    "start_time": "2022-10-21T07:28:12.264Z"
   },
   {
    "duration": 12,
    "start_time": "2022-10-21T07:28:15.007Z"
   },
   {
    "duration": 13,
    "start_time": "2022-10-21T07:28:15.704Z"
   },
   {
    "duration": 9,
    "start_time": "2022-10-21T07:28:31.425Z"
   },
   {
    "duration": 7,
    "start_time": "2022-10-21T07:28:34.123Z"
   },
   {
    "duration": 8,
    "start_time": "2022-10-21T07:28:38.444Z"
   },
   {
    "duration": 10,
    "start_time": "2022-10-21T07:29:43.329Z"
   },
   {
    "duration": 10,
    "start_time": "2022-10-21T07:29:46.127Z"
   },
   {
    "duration": 149,
    "start_time": "2022-10-21T07:31:16.428Z"
   },
   {
    "duration": 14,
    "start_time": "2022-10-21T07:32:54.752Z"
   },
   {
    "duration": 105,
    "start_time": "2022-10-21T07:33:56.531Z"
   },
   {
    "duration": 14,
    "start_time": "2022-10-21T07:34:55.212Z"
   },
   {
    "duration": 128,
    "start_time": "2022-10-21T07:35:01.472Z"
   },
   {
    "duration": 15,
    "start_time": "2022-10-21T07:35:19.911Z"
   },
   {
    "duration": 122,
    "start_time": "2022-10-21T07:35:22.905Z"
   },
   {
    "duration": 86,
    "start_time": "2022-10-21T07:36:42.647Z"
   },
   {
    "duration": 6,
    "start_time": "2022-10-21T07:36:49.627Z"
   },
   {
    "duration": 10,
    "start_time": "2022-10-21T07:37:05.082Z"
   },
   {
    "duration": 18,
    "start_time": "2022-10-21T07:37:32.386Z"
   },
   {
    "duration": 13,
    "start_time": "2022-10-21T07:38:39.002Z"
   },
   {
    "duration": 136,
    "start_time": "2022-10-21T07:38:56.350Z"
   },
   {
    "duration": 16,
    "start_time": "2022-10-21T07:39:30.238Z"
   },
   {
    "duration": 127,
    "start_time": "2022-10-21T07:39:31.101Z"
   },
   {
    "duration": 21,
    "start_time": "2022-10-21T07:39:44.480Z"
   },
   {
    "duration": 126,
    "start_time": "2022-10-21T07:39:47.342Z"
   },
   {
    "duration": 6,
    "start_time": "2022-10-21T07:50:45.945Z"
   },
   {
    "duration": 9,
    "start_time": "2022-10-21T07:50:52.362Z"
   },
   {
    "duration": 6,
    "start_time": "2022-10-21T07:51:08.410Z"
   },
   {
    "duration": 8,
    "start_time": "2022-10-21T07:51:12.424Z"
   },
   {
    "duration": 11,
    "start_time": "2022-10-21T07:52:57.833Z"
   },
   {
    "duration": 10,
    "start_time": "2022-10-21T07:53:26.003Z"
   },
   {
    "duration": 11,
    "start_time": "2022-10-21T07:54:45.496Z"
   },
   {
    "duration": 12,
    "start_time": "2022-10-21T07:55:09.833Z"
   },
   {
    "duration": 9,
    "start_time": "2022-10-21T07:55:34.966Z"
   },
   {
    "duration": 10,
    "start_time": "2022-10-21T07:55:51.207Z"
   },
   {
    "duration": 7,
    "start_time": "2022-10-21T07:55:54.127Z"
   },
   {
    "duration": 80,
    "start_time": "2022-10-21T07:56:37.183Z"
   },
   {
    "duration": 17,
    "start_time": "2022-10-21T07:56:44.317Z"
   },
   {
    "duration": 25,
    "start_time": "2022-10-21T07:56:51.789Z"
   },
   {
    "duration": 11,
    "start_time": "2022-10-21T07:57:14.738Z"
   },
   {
    "duration": 9,
    "start_time": "2022-10-21T07:57:20.402Z"
   },
   {
    "duration": 81,
    "start_time": "2022-10-21T07:57:29.844Z"
   },
   {
    "duration": 9,
    "start_time": "2022-10-21T07:57:45.054Z"
   },
   {
    "duration": 519,
    "start_time": "2022-10-24T07:41:28.070Z"
   },
   {
    "duration": 26,
    "start_time": "2022-10-24T07:41:29.573Z"
   },
   {
    "duration": 24,
    "start_time": "2022-10-24T07:41:31.613Z"
   },
   {
    "duration": 11,
    "start_time": "2022-10-24T07:41:33.717Z"
   },
   {
    "duration": 35,
    "start_time": "2022-10-24T07:41:34.916Z"
   },
   {
    "duration": 4,
    "start_time": "2022-10-24T07:41:36.626Z"
   },
   {
    "duration": 8,
    "start_time": "2022-10-24T07:41:37.465Z"
   },
   {
    "duration": 6,
    "start_time": "2022-10-24T07:41:38.711Z"
   },
   {
    "duration": 8,
    "start_time": "2022-10-24T07:41:39.578Z"
   },
   {
    "duration": 5,
    "start_time": "2022-10-24T07:41:40.398Z"
   },
   {
    "duration": 45,
    "start_time": "2022-10-24T07:41:41.532Z"
   },
   {
    "duration": 10,
    "start_time": "2022-10-24T07:41:42.492Z"
   },
   {
    "duration": 5,
    "start_time": "2022-10-24T07:41:44.205Z"
   },
   {
    "duration": 12,
    "start_time": "2022-10-24T07:41:45.714Z"
   },
   {
    "duration": 22,
    "start_time": "2022-10-24T07:41:46.694Z"
   },
   {
    "duration": 19,
    "start_time": "2022-10-24T07:41:47.010Z"
   },
   {
    "duration": 4,
    "start_time": "2022-10-24T07:41:49.439Z"
   },
   {
    "duration": 10,
    "start_time": "2022-10-24T07:41:49.874Z"
   },
   {
    "duration": 7,
    "start_time": "2022-10-24T07:41:50.610Z"
   },
   {
    "duration": 4,
    "start_time": "2022-10-24T07:41:52.592Z"
   },
   {
    "duration": 10,
    "start_time": "2022-10-24T07:41:52.763Z"
   },
   {
    "duration": 7,
    "start_time": "2022-10-24T07:42:52.354Z"
   },
   {
    "duration": 6,
    "start_time": "2022-10-24T07:44:02.620Z"
   },
   {
    "duration": 9,
    "start_time": "2022-10-24T07:44:33.023Z"
   },
   {
    "duration": 10,
    "start_time": "2022-10-24T07:45:31.745Z"
   },
   {
    "duration": 7,
    "start_time": "2022-10-24T07:53:27.473Z"
   },
   {
    "duration": 6,
    "start_time": "2022-10-24T07:53:36.337Z"
   },
   {
    "duration": 11,
    "start_time": "2022-10-24T07:53:49.825Z"
   },
   {
    "duration": 8,
    "start_time": "2022-10-24T08:00:33.264Z"
   },
   {
    "duration": 8,
    "start_time": "2022-10-24T08:01:00.519Z"
   },
   {
    "duration": 12,
    "start_time": "2022-10-24T08:01:28.872Z"
   },
   {
    "duration": 4,
    "start_time": "2022-10-24T08:13:49.818Z"
   },
   {
    "duration": 11,
    "start_time": "2022-10-24T08:14:02.185Z"
   },
   {
    "duration": 8,
    "start_time": "2022-10-24T08:15:19.164Z"
   },
   {
    "duration": 31,
    "start_time": "2022-10-24T08:16:25.249Z"
   },
   {
    "duration": 9,
    "start_time": "2022-10-24T08:16:44.525Z"
   },
   {
    "duration": 10,
    "start_time": "2022-10-24T08:17:05.788Z"
   },
   {
    "duration": 8,
    "start_time": "2022-10-24T08:17:22.276Z"
   },
   {
    "duration": 8,
    "start_time": "2022-10-24T08:17:28.674Z"
   },
   {
    "duration": 56,
    "start_time": "2022-10-24T08:18:19.646Z"
   },
   {
    "duration": 687,
    "start_time": "2022-10-24T08:18:23.518Z"
   },
   {
    "duration": 8,
    "start_time": "2022-10-24T08:18:32.173Z"
   },
   {
    "duration": 30,
    "start_time": "2022-10-24T08:24:53.898Z"
   },
   {
    "duration": 30,
    "start_time": "2022-10-24T08:32:31.403Z"
   },
   {
    "duration": 28,
    "start_time": "2022-10-24T08:32:58.434Z"
   },
   {
    "duration": 35,
    "start_time": "2022-10-24T08:33:31.566Z"
   },
   {
    "duration": 29,
    "start_time": "2022-10-24T08:33:58.609Z"
   },
   {
    "duration": 28,
    "start_time": "2022-10-24T08:34:12.173Z"
   },
   {
    "duration": 30,
    "start_time": "2022-10-24T08:34:56.501Z"
   },
   {
    "duration": 29,
    "start_time": "2022-10-24T08:35:16.813Z"
   },
   {
    "duration": 31,
    "start_time": "2022-10-24T08:35:31.761Z"
   },
   {
    "duration": 33,
    "start_time": "2022-10-24T08:36:35.490Z"
   },
   {
    "duration": 8,
    "start_time": "2022-10-24T08:45:59.977Z"
   },
   {
    "duration": 8,
    "start_time": "2022-10-24T08:46:00.911Z"
   },
   {
    "duration": 12,
    "start_time": "2022-10-24T08:46:01.305Z"
   },
   {
    "duration": 52,
    "start_time": "2022-10-24T08:46:02.355Z"
   },
   {
    "duration": 109,
    "start_time": "2022-10-24T08:46:16.748Z"
   },
   {
    "duration": 52,
    "start_time": "2022-10-24T08:46:19.850Z"
   },
   {
    "duration": 14,
    "start_time": "2022-10-24T08:47:51.026Z"
   },
   {
    "duration": 15,
    "start_time": "2022-10-24T08:48:11.451Z"
   },
   {
    "duration": 10,
    "start_time": "2022-10-24T08:48:24.148Z"
   },
   {
    "duration": 83,
    "start_time": "2022-10-24T08:48:34.296Z"
   },
   {
    "duration": 10,
    "start_time": "2022-10-24T08:48:43.126Z"
   },
   {
    "duration": 13,
    "start_time": "2022-10-24T08:48:59.431Z"
   },
   {
    "duration": 13,
    "start_time": "2022-10-24T08:49:06.986Z"
   },
   {
    "duration": 14,
    "start_time": "2022-10-24T08:49:45.360Z"
   },
   {
    "duration": 12,
    "start_time": "2022-10-24T08:56:08.574Z"
   },
   {
    "duration": 53,
    "start_time": "2022-10-24T08:59:08.577Z"
   },
   {
    "duration": 8,
    "start_time": "2022-10-24T09:04:07.911Z"
   },
   {
    "duration": 8,
    "start_time": "2022-10-24T09:04:36.385Z"
   },
   {
    "duration": 12,
    "start_time": "2022-10-24T09:05:23.802Z"
   },
   {
    "duration": 10,
    "start_time": "2022-10-24T09:29:32.419Z"
   },
   {
    "duration": 7,
    "start_time": "2022-10-24T09:29:33.272Z"
   },
   {
    "duration": 13,
    "start_time": "2022-10-24T09:29:34.716Z"
   },
   {
    "duration": 12,
    "start_time": "2022-10-24T09:29:43.710Z"
   },
   {
    "duration": 10,
    "start_time": "2022-10-24T09:53:49.653Z"
   },
   {
    "duration": 8,
    "start_time": "2022-10-24T09:53:55.945Z"
   },
   {
    "duration": 8,
    "start_time": "2022-10-24T09:54:18.403Z"
   },
   {
    "duration": 10,
    "start_time": "2022-10-24T09:54:23.312Z"
   },
   {
    "duration": 59,
    "start_time": "2022-10-24T10:20:35.713Z"
   },
   {
    "duration": 17,
    "start_time": "2022-10-24T10:20:36.233Z"
   },
   {
    "duration": 16,
    "start_time": "2022-10-24T10:20:36.780Z"
   },
   {
    "duration": 11,
    "start_time": "2022-10-24T10:20:38.191Z"
   },
   {
    "duration": 38,
    "start_time": "2022-10-24T10:20:38.636Z"
   },
   {
    "duration": 5,
    "start_time": "2022-10-24T10:20:39.532Z"
   },
   {
    "duration": 8,
    "start_time": "2022-10-24T10:20:40.290Z"
   },
   {
    "duration": 4,
    "start_time": "2022-10-24T10:20:41.337Z"
   },
   {
    "duration": 9,
    "start_time": "2022-10-24T10:20:41.549Z"
   },
   {
    "duration": 5,
    "start_time": "2022-10-24T10:20:41.905Z"
   },
   {
    "duration": 34,
    "start_time": "2022-10-24T10:20:42.470Z"
   },
   {
    "duration": 11,
    "start_time": "2022-10-24T10:20:42.798Z"
   },
   {
    "duration": 4,
    "start_time": "2022-10-24T10:20:43.434Z"
   },
   {
    "duration": 12,
    "start_time": "2022-10-24T10:20:43.886Z"
   },
   {
    "duration": 20,
    "start_time": "2022-10-24T10:20:44.174Z"
   },
   {
    "duration": 21,
    "start_time": "2022-10-24T10:20:44.485Z"
   },
   {
    "duration": 4,
    "start_time": "2022-10-24T10:20:44.876Z"
   },
   {
    "duration": 11,
    "start_time": "2022-10-24T10:20:44.979Z"
   },
   {
    "duration": 7,
    "start_time": "2022-10-24T10:20:45.533Z"
   },
   {
    "duration": 4,
    "start_time": "2022-10-24T10:20:45.789Z"
   },
   {
    "duration": 9,
    "start_time": "2022-10-24T10:20:45.959Z"
   },
   {
    "duration": 7,
    "start_time": "2022-10-24T10:20:46.581Z"
   },
   {
    "duration": 5,
    "start_time": "2022-10-24T10:20:46.702Z"
   },
   {
    "duration": 9,
    "start_time": "2022-10-24T10:20:46.880Z"
   },
   {
    "duration": 31,
    "start_time": "2022-10-24T10:20:47.787Z"
   },
   {
    "duration": 9,
    "start_time": "2022-10-24T10:20:49.074Z"
   },
   {
    "duration": 7,
    "start_time": "2022-10-24T10:20:49.414Z"
   },
   {
    "duration": 12,
    "start_time": "2022-10-24T10:20:49.733Z"
   },
   {
    "duration": 57,
    "start_time": "2022-10-24T10:20:50.235Z"
   },
   {
    "duration": 2,
    "start_time": "2022-10-24T10:20:51.221Z"
   },
   {
    "duration": 10,
    "start_time": "2022-10-24T10:20:51.534Z"
   },
   {
    "duration": 7,
    "start_time": "2022-10-24T10:20:51.832Z"
   },
   {
    "duration": 12,
    "start_time": "2022-10-24T10:20:52.012Z"
   },
   {
    "duration": 10,
    "start_time": "2022-10-24T10:20:53.148Z"
   },
   {
    "duration": 7,
    "start_time": "2022-10-24T10:20:53.385Z"
   },
   {
    "duration": 11,
    "start_time": "2022-10-24T10:20:53.925Z"
   },
   {
    "duration": 506,
    "start_time": "2022-10-24T10:31:56.611Z"
   },
   {
    "duration": 21,
    "start_time": "2022-10-24T10:31:57.119Z"
   },
   {
    "duration": 17,
    "start_time": "2022-10-24T10:31:57.141Z"
   },
   {
    "duration": 9,
    "start_time": "2022-10-24T10:31:57.161Z"
   },
   {
    "duration": 53,
    "start_time": "2022-10-24T10:31:57.172Z"
   },
   {
    "duration": 3,
    "start_time": "2022-10-24T10:31:57.227Z"
   },
   {
    "duration": 14,
    "start_time": "2022-10-24T10:31:57.232Z"
   },
   {
    "duration": 9,
    "start_time": "2022-10-24T10:31:57.248Z"
   },
   {
    "duration": 12,
    "start_time": "2022-10-24T10:31:57.258Z"
   },
   {
    "duration": 7,
    "start_time": "2022-10-24T10:31:57.273Z"
   },
   {
    "duration": 33,
    "start_time": "2022-10-24T10:31:57.281Z"
   },
   {
    "duration": 9,
    "start_time": "2022-10-24T10:31:57.321Z"
   },
   {
    "duration": 9,
    "start_time": "2022-10-24T10:31:57.333Z"
   },
   {
    "duration": 15,
    "start_time": "2022-10-24T10:31:57.344Z"
   },
   {
    "duration": 20,
    "start_time": "2022-10-24T10:31:57.361Z"
   },
   {
    "duration": 18,
    "start_time": "2022-10-24T10:31:57.383Z"
   },
   {
    "duration": 4,
    "start_time": "2022-10-24T10:31:57.421Z"
   },
   {
    "duration": 17,
    "start_time": "2022-10-24T10:31:57.426Z"
   },
   {
    "duration": 14,
    "start_time": "2022-10-24T10:31:57.444Z"
   },
   {
    "duration": 4,
    "start_time": "2022-10-24T10:31:57.460Z"
   },
   {
    "duration": 35,
    "start_time": "2022-10-24T10:31:57.465Z"
   },
   {
    "duration": 12,
    "start_time": "2022-10-24T10:31:57.502Z"
   },
   {
    "duration": 22,
    "start_time": "2022-10-24T10:31:57.516Z"
   },
   {
    "duration": 11,
    "start_time": "2022-10-24T10:31:57.540Z"
   },
   {
    "duration": 32,
    "start_time": "2022-10-24T10:31:57.553Z"
   },
   {
    "duration": 10,
    "start_time": "2022-10-24T10:31:57.587Z"
   },
   {
    "duration": 16,
    "start_time": "2022-10-24T10:31:57.599Z"
   },
   {
    "duration": 12,
    "start_time": "2022-10-24T10:31:57.618Z"
   },
   {
    "duration": 48,
    "start_time": "2022-10-24T10:31:57.632Z"
   },
   {
    "duration": 3,
    "start_time": "2022-10-24T10:31:57.682Z"
   },
   {
    "duration": 33,
    "start_time": "2022-10-24T10:31:57.687Z"
   },
   {
    "duration": 21,
    "start_time": "2022-10-24T10:31:57.722Z"
   },
   {
    "duration": 17,
    "start_time": "2022-10-24T10:31:57.745Z"
   },
   {
    "duration": 12,
    "start_time": "2022-10-24T10:31:57.763Z"
   },
   {
    "duration": 8,
    "start_time": "2022-10-24T10:31:57.778Z"
   },
   {
    "duration": 15,
    "start_time": "2022-10-24T10:31:57.788Z"
   }
  ],
  "colab": {
   "name": "dpp_template_part2.ipynb",
   "provenance": []
  },
  "kernelspec": {
   "display_name": "Python 3 (ipykernel)",
   "language": "python",
   "name": "python3"
  },
  "language_info": {
   "codemirror_mode": {
    "name": "ipython",
    "version": 3
   },
   "file_extension": ".py",
   "mimetype": "text/x-python",
   "name": "python",
   "nbconvert_exporter": "python",
   "pygments_lexer": "ipython3",
   "version": "3.10.4"
  },
  "toc": {
   "base_numbering": 1,
   "nav_menu": {},
   "number_sections": true,
   "sideBar": true,
   "skip_h1_title": true,
   "title_cell": "Table of Contents",
   "title_sidebar": "Contents",
   "toc_cell": false,
   "toc_position": {},
   "toc_section_display": true,
   "toc_window_display": false
  }
 },
 "nbformat": 4,
 "nbformat_minor": 5
}
