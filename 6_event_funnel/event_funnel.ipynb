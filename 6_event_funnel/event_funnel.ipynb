{
 "cells": [
  {
   "cell_type": "markdown",
   "id": "db9b3108",
   "metadata": {
    "toc": true
   },
   "source": [
    "<h1><span class=\"tocSkip\"></span></h1>\n",
    "<div class=\"toc\"><ul class=\"toc-item\"><li><span><a href=\"#Описание-данных\" data-toc-modified-id=\"Описание-данных-1\"><span class=\"toc-item-num\">1&nbsp;&nbsp;</span>Описание данных</a></span></li><li><span><a href=\"#Предобработка-данных\" data-toc-modified-id=\"Предобработка-данных-2\"><span class=\"toc-item-num\">2&nbsp;&nbsp;</span>Предобработка данных</a></span></li><li><span><a href=\"#Обзор-данных\" data-toc-modified-id=\"Обзор-данных-3\"><span class=\"toc-item-num\">3&nbsp;&nbsp;</span>Обзор данных</a></span></li><li><span><a href=\"#Воронка-событий\" data-toc-modified-id=\"Воронка-событий-4\"><span class=\"toc-item-num\">4&nbsp;&nbsp;</span>Воронка событий</a></span></li><li><span><a href=\"#Результаты-эксперимента\" data-toc-modified-id=\"Результаты-эксперимента-5\"><span class=\"toc-item-num\">5&nbsp;&nbsp;</span>Результаты эксперимента</a></span><ul class=\"toc-item\"><li><span><a href=\"#A/A-тест-(группы-246-и-247)\" data-toc-modified-id=\"A/A-тест-(группы-246-и-247)-5.1\"><span class=\"toc-item-num\">5.1&nbsp;&nbsp;</span>A/A тест (группы 246 и 247)</a></span></li><li><span><a href=\"#A/B-тест-(группы-246-и-248)\" data-toc-modified-id=\"A/B-тест-(группы-246-и-248)-5.2\"><span class=\"toc-item-num\">5.2&nbsp;&nbsp;</span>A/B тест (группы 246 и 248)</a></span></li><li><span><a href=\"#A/B-тест-(группы-247-и-248)\" data-toc-modified-id=\"A/B-тест-(группы-247-и-248)-5.3\"><span class=\"toc-item-num\">5.3&nbsp;&nbsp;</span>A/B тест (группы 247 и 248)</a></span></li><li><span><a href=\"#A+A/B-тест-(группы-246+247-и-248)\" data-toc-modified-id=\"A+A/B-тест-(группы-246+247-и-248)-5.4\"><span class=\"toc-item-num\">5.4&nbsp;&nbsp;</span>A+A/B тест (группы 246+247 и 248)</a></span></li></ul></li><li><span><a href=\"#Выводы\" data-toc-modified-id=\"Выводы-6\"><span class=\"toc-item-num\">6&nbsp;&nbsp;</span>Выводы</a></span><ul class=\"toc-item\"><li><span><a href=\"#Данные\" data-toc-modified-id=\"Данные-6.1\"><span class=\"toc-item-num\">6.1&nbsp;&nbsp;</span>Данные</a></span></li><li><span><a href=\"#Воронка-событий\" data-toc-modified-id=\"Воронка-событий-6.2\"><span class=\"toc-item-num\">6.2&nbsp;&nbsp;</span>Воронка событий</a></span></li><li><span><a href=\"#Эксперимент\" data-toc-modified-id=\"Эксперимент-6.3\"><span class=\"toc-item-num\">6.3&nbsp;&nbsp;</span>Эксперимент</a></span></li></ul></li></ul></div>"
   ]
  },
  {
   "cell_type": "markdown",
   "id": "c22e5590",
   "metadata": {},
   "source": [
    "# Анализ пользовательского поведения в мобильном приложении"
   ]
  },
  {
   "cell_type": "markdown",
   "id": "a5047a65",
   "metadata": {},
   "source": [
    "Необходимо разобраться, как ведут себя пользователи  мобильного приложения стартапа, который продает продукты питания.\n",
    "\n",
    "Потребуется изучить воронку продаж и узнать, как пользователи доходят до покупки. Определить сколько пользователей доходит до покупки, а сколько — «застревает» на предыдущих шагах и на каких именно.\n",
    "\n",
    "Также нужно исследовать результаты A/A/B-эксперимента. Дизайнеры захотели поменять шрифты во всём приложении, а менеджеры испугались, что пользователям будет непривычно. Договорились принять решение по результатам A/A/B-теста. Пользователей разбили на 3 группы: 2 контрольные со старыми шрифтами и одну экспериментальную — с новыми. Необходимо выяснить, какой шрифт лучше."
   ]
  },
  {
   "cell_type": "markdown",
   "id": "350d98dc",
   "metadata": {},
   "source": [
    "## Описание данных"
   ]
  },
  {
   "cell_type": "markdown",
   "id": "ae1e6a9b",
   "metadata": {},
   "source": [
    "Каждая запись в логе — это действие пользователя, или событие. \n",
    "* `EventName` — название события;\n",
    "* `DeviceIDHash` — уникальный идентификатор пользователя;\n",
    "* `EventTimestamp` — время события;\n",
    "* `ExpId` — номер эксперимента: *246* и *247* — контрольные группы, а *248* — экспериментальная."
   ]
  },
  {
   "cell_type": "markdown",
   "id": "ced40181",
   "metadata": {},
   "source": [
    "## Предобработка данных"
   ]
  },
  {
   "cell_type": "code",
   "execution_count": 1,
   "id": "cffcd4c2",
   "metadata": {},
   "outputs": [],
   "source": [
    "# импорт необходимых библиотек\n",
    "import pandas as pd\n",
    "import matplotlib.pyplot as plt\n",
    "import seaborn as sns\n",
    "import datetime as dt\n",
    "import numpy as np\n",
    "import math as mth\n",
    "\n",
    "from plotly import graph_objects as go\n",
    "from scipy import stats as st"
   ]
  },
  {
   "cell_type": "code",
   "execution_count": 2,
   "id": "cf7ff48b",
   "metadata": {},
   "outputs": [],
   "source": [
    "# чтение файла\n",
    "try: \n",
    "    logs = pd.read_csv('logs_exp.csv', sep='\\t')\n",
    "except:\n",
    "    logs = pd.read_csv('https://code.s3.yandex.net/datasets/logs_exp.csv', sep='\\t')"
   ]
  },
  {
   "cell_type": "code",
   "execution_count": 4,
   "id": "96fe48a9",
   "metadata": {},
   "outputs": [],
   "source": [
    "# функция с обзором данных\n",
    "def first_view(df):\n",
    "    raw_shape_df = df.shape\n",
    "    display(df.head(3))\n",
    "    display(df.info())\n",
    "    print(f'Размер датасета: {raw_shape_df}')\n",
    "    print(f'Всего дубликатов: {df.duplicated().sum()}')\n",
    "    \n",
    "    cols = []\n",
    "    nans = []\n",
    "    pnans = []\n",
    "    \n",
    "    if df.isna().sum().sum() == 0:\n",
    "        print('Пропущенных значений не обнаружено')\n",
    "    else:\n",
    "        for i in df.columns:\n",
    "            if df[i].isna().sum() != 0:\n",
    "                cols.append(i)\n",
    "                nans.append(df[i].isna().sum())\n",
    "                pnans.append(df[i].isna().sum() / df.shape[0] * 100)\n",
    "                \n",
    "    if len(cols) != 0:\n",
    "        print('\\n')\n",
    "        print('Пропущенные значения по столбцам:')\n",
    "        display(\n",
    "            pd.DataFrame(\n",
    "            {\n",
    "                'column_name': cols, \n",
    "                'number_of_na': nans, \n",
    "                'percent_of_na': pnans\n",
    "            }\n",
    "            ).style.format({'percent_of_na': '{:.2f}%'}).background_gradient()\n",
    "        )\n",
    "    return raw_shape_df"
   ]
  },
  {
   "cell_type": "code",
   "execution_count": 6,
   "id": "5e13c085",
   "metadata": {
    "scrolled": false
   },
   "outputs": [
    {
     "data": {
      "text/html": [
       "<div>\n",
       "<style scoped>\n",
       "    .dataframe tbody tr th:only-of-type {\n",
       "        vertical-align: middle;\n",
       "    }\n",
       "\n",
       "    .dataframe tbody tr th {\n",
       "        vertical-align: top;\n",
       "    }\n",
       "\n",
       "    .dataframe thead th {\n",
       "        text-align: right;\n",
       "    }\n",
       "</style>\n",
       "<table border=\"1\" class=\"dataframe\">\n",
       "  <thead>\n",
       "    <tr style=\"text-align: right;\">\n",
       "      <th></th>\n",
       "      <th>EventName</th>\n",
       "      <th>DeviceIDHash</th>\n",
       "      <th>EventTimestamp</th>\n",
       "      <th>ExpId</th>\n",
       "    </tr>\n",
       "  </thead>\n",
       "  <tbody>\n",
       "    <tr>\n",
       "      <th>0</th>\n",
       "      <td>MainScreenAppear</td>\n",
       "      <td>4575588528974610257</td>\n",
       "      <td>1564029816</td>\n",
       "      <td>246</td>\n",
       "    </tr>\n",
       "    <tr>\n",
       "      <th>1</th>\n",
       "      <td>MainScreenAppear</td>\n",
       "      <td>7416695313311560658</td>\n",
       "      <td>1564053102</td>\n",
       "      <td>246</td>\n",
       "    </tr>\n",
       "    <tr>\n",
       "      <th>2</th>\n",
       "      <td>PaymentScreenSuccessful</td>\n",
       "      <td>3518123091307005509</td>\n",
       "      <td>1564054127</td>\n",
       "      <td>248</td>\n",
       "    </tr>\n",
       "  </tbody>\n",
       "</table>\n",
       "</div>"
      ],
      "text/plain": [
       "                 EventName         DeviceIDHash  EventTimestamp  ExpId\n",
       "0         MainScreenAppear  4575588528974610257      1564029816    246\n",
       "1         MainScreenAppear  7416695313311560658      1564053102    246\n",
       "2  PaymentScreenSuccessful  3518123091307005509      1564054127    248"
      ]
     },
     "metadata": {},
     "output_type": "display_data"
    },
    {
     "name": "stdout",
     "output_type": "stream",
     "text": [
      "<class 'pandas.core.frame.DataFrame'>\n",
      "RangeIndex: 244126 entries, 0 to 244125\n",
      "Data columns (total 4 columns):\n",
      " #   Column          Non-Null Count   Dtype \n",
      "---  ------          --------------   ----- \n",
      " 0   EventName       244126 non-null  object\n",
      " 1   DeviceIDHash    244126 non-null  int64 \n",
      " 2   EventTimestamp  244126 non-null  int64 \n",
      " 3   ExpId           244126 non-null  int64 \n",
      "dtypes: int64(3), object(1)\n",
      "memory usage: 7.5+ MB\n"
     ]
    },
    {
     "data": {
      "text/plain": [
       "None"
      ]
     },
     "metadata": {},
     "output_type": "display_data"
    },
    {
     "name": "stdout",
     "output_type": "stream",
     "text": [
      "Размер датасета: (244126, 4)\n",
      "Всего дубликатов: 413\n",
      "Пропущенных значений не обнаружено\n"
     ]
    }
   ],
   "source": [
    "# вызываем функцию обзора данных и создаем переменную с размером датасета\n",
    "raw_shape = first_view(logs)"
   ]
  },
  {
   "cell_type": "code",
   "execution_count": 9,
   "id": "19411867",
   "metadata": {},
   "outputs": [],
   "source": [
    "# переименование столбцов\n",
    "logs.columns = ['event_name', 'device_id_hash', 'event_timestamp', 'exp_id']"
   ]
  },
  {
   "cell_type": "code",
   "execution_count": 14,
   "id": "9c2f38cc",
   "metadata": {},
   "outputs": [],
   "source": [
    "# запишем изначальную длину датасета и количество уникальных пользователей в переменные\n",
    "len_logs_raw = raw_shape[0]\n",
    "unique_users_raw = logs.device_id_hash.nunique()"
   ]
  },
  {
   "cell_type": "code",
   "execution_count": 16,
   "id": "fe52338e",
   "metadata": {},
   "outputs": [],
   "source": [
    "# создание столбцов даты со временем и даты\n",
    "logs['date_time'] = pd.to_datetime(logs.event_timestamp, unit='s')\n",
    "logs['date'] = logs.date_time.dt.date"
   ]
  },
  {
   "cell_type": "code",
   "execution_count": 17,
   "id": "bd2a03c5",
   "metadata": {},
   "outputs": [],
   "source": [
    "# удаление дубликатов\n",
    "logs = logs.drop_duplicates()"
   ]
  },
  {
   "cell_type": "code",
   "execution_count": 18,
   "id": "5ba7850a",
   "metadata": {},
   "outputs": [
    {
     "data": {
      "text/plain": [
       "0"
      ]
     },
     "execution_count": 18,
     "metadata": {},
     "output_type": "execute_result"
    }
   ],
   "source": [
    "# проверим попали ли какие-то пользователи одновременно в группы 246 и 247\n",
    "len(np.intersect1d(\n",
    "    logs[logs.exp_id == 246].device_id_hash.unique(),\n",
    "    logs[logs.exp_id == 247].device_id_hash.unique())\n",
    ")"
   ]
  },
  {
   "cell_type": "code",
   "execution_count": 19,
   "id": "69017a57",
   "metadata": {},
   "outputs": [
    {
     "data": {
      "text/plain": [
       "0"
      ]
     },
     "execution_count": 19,
     "metadata": {},
     "output_type": "execute_result"
    }
   ],
   "source": [
    "# проверим попали ли какие-то пользователи одновременно в группы 246 и 248\n",
    "len(np.intersect1d(\n",
    "    logs[logs.exp_id == 246].device_id_hash.unique(),\n",
    "    logs[logs.exp_id == 248].device_id_hash.unique())\n",
    ")"
   ]
  },
  {
   "cell_type": "code",
   "execution_count": 20,
   "id": "51211bcb",
   "metadata": {},
   "outputs": [
    {
     "data": {
      "text/plain": [
       "0"
      ]
     },
     "execution_count": 20,
     "metadata": {},
     "output_type": "execute_result"
    }
   ],
   "source": [
    "# проверим попали ли какие-то пользователи одновременно в группы 248 и 247\n",
    "len(np.intersect1d(\n",
    "    logs[logs.exp_id == 248].device_id_hash.unique(),\n",
    "    logs[logs.exp_id == 247].device_id_hash.unique())\n",
    ")"
   ]
  },
  {
   "cell_type": "code",
   "execution_count": 21,
   "id": "5ef3a772",
   "metadata": {},
   "outputs": [
    {
     "data": {
      "text/plain": [
       "0.17"
      ]
     },
     "execution_count": 21,
     "metadata": {},
     "output_type": "execute_result"
    }
   ],
   "source": [
    "# процент удаленных данных\n",
    "round(\n",
    "    (1 - logs.shape[0] / len_logs_raw) * 100, 2\n",
    ")"
   ]
  },
  {
   "cell_type": "code",
   "execution_count": 22,
   "id": "04a61155",
   "metadata": {},
   "outputs": [
    {
     "data": {
      "text/plain": [
       "0.0"
      ]
     },
     "execution_count": 22,
     "metadata": {},
     "output_type": "execute_result"
    }
   ],
   "source": [
    "# процент удаленных пользователей\n",
    "round(\n",
    "    (1 - logs.device_id_hash.nunique() / unique_users_raw) * 100, 2\n",
    ")"
   ]
  },
  {
   "cell_type": "markdown",
   "id": "913f4abc",
   "metadata": {},
   "source": [
    "На данном этапе: \n",
    "* изменили названия столбцов для более удобной дальнейшей работы\n",
    "* проверили на наличие пропусков - данные полные, пропущенных значений не обнаружено\n",
    "* добавили стобцы `date_time` со значением времени и даты и `date` со значением даты с соответствующими типами данных\n",
    "* проверили попадание пользователей в разные тестовые группы - таких пользователей не обнаружено\n",
    "* проверили наличие дубликатов и удалили 413 повторяющихся записей, таким образом удалено `0.17%` данных"
   ]
  },
  {
   "cell_type": "markdown",
   "id": "e316b6b4",
   "metadata": {},
   "source": [
    "## Обзор данных"
   ]
  },
  {
   "cell_type": "code",
   "execution_count": 23,
   "id": "4be7f598",
   "metadata": {},
   "outputs": [
    {
     "data": {
      "text/plain": [
       "243713"
      ]
     },
     "execution_count": 23,
     "metadata": {},
     "output_type": "execute_result"
    }
   ],
   "source": [
    "# общее количество событий\n",
    "logs.shape[0]"
   ]
  },
  {
   "cell_type": "code",
   "execution_count": 24,
   "id": "312f057e",
   "metadata": {},
   "outputs": [
    {
     "data": {
      "text/plain": [
       "7551"
      ]
     },
     "execution_count": 24,
     "metadata": {},
     "output_type": "execute_result"
    }
   ],
   "source": [
    "# количество пользователей\n",
    "logs.device_id_hash.nunique()"
   ]
  },
  {
   "cell_type": "code",
   "execution_count": 25,
   "id": "eacb426e",
   "metadata": {
    "code_folding": [],
    "scrolled": true
   },
   "outputs": [
    {
     "data": {
      "text/plain": [
       "32.28"
      ]
     },
     "execution_count": 25,
     "metadata": {},
     "output_type": "execute_result"
    }
   ],
   "source": [
    "# среднее количество действий пользователя\n",
    "round(\n",
    "    logs.groupby('device_id_hash')['event_name'].count().mean(),\n",
    "    2\n",
    ")"
   ]
  },
  {
   "cell_type": "code",
   "execution_count": 26,
   "id": "be3477ef",
   "metadata": {},
   "outputs": [
    {
     "data": {
      "text/plain": [
       "Timestamp('2019-08-07 21:15:17')"
      ]
     },
     "metadata": {},
     "output_type": "display_data"
    },
    {
     "data": {
      "text/plain": [
       "Timestamp('2019-07-25 04:43:36')"
      ]
     },
     "execution_count": 26,
     "metadata": {},
     "output_type": "execute_result"
    }
   ],
   "source": [
    "# максимальная и минимальная даты\n",
    "display(logs.date_time.max())\n",
    "logs.date_time.min()"
   ]
  },
  {
   "cell_type": "markdown",
   "id": "695b8b2a",
   "metadata": {},
   "source": [
    "* Всего имеются данные о `243713` событиях\n",
    "* Представлены данные действий `7551` пользователя\n",
    "* В среднем один пользователь совершает `32-33` действия\n",
    "* Временной интервал событий - c `25 июля 2019 года` до `7 августа 2019 года` "
   ]
  },
  {
   "cell_type": "code",
   "execution_count": 27,
   "id": "82a31c6c",
   "metadata": {},
   "outputs": [],
   "source": [
    "sns.set_theme(rc={'figure.figsize': (17, 6)}, style='whitegrid')"
   ]
  },
  {
   "cell_type": "code",
   "execution_count": 28,
   "id": "5603caf9",
   "metadata": {},
   "outputs": [
    {
     "data": {
      "image/png": "[encoded data removed]",
      "text/plain": [
       "<Figure size 1700x600 with 1 Axes>"
      ]
     },
     "metadata": {},
     "output_type": "display_data"
    }
   ],
   "source": [
    "sns.histplot(logs.date_time, bins=14*24, shrink=0.95)\n",
    "plt.title('Гистограмма количества данных по дате и времени')\n",
    "plt.xlabel('Дата')\n",
    "plt.show()"
   ]
  },
  {
   "cell_type": "markdown",
   "id": "595258d9",
   "metadata": {},
   "source": [
    "На самом деле мы располагаем полными данными только с `1-го августа 2019 года`. Технически в логи новых дней по некоторым пользователям могут «доезжать» события из прошлого — это может «перекашивать данные». Поэтому удалим события до `01.08.2019`. Также сразу можно отметить, что в ночные часы совершается меньшее количество действий."
   ]
  },
  {
   "cell_type": "code",
   "execution_count": 29,
   "id": "e3c9ffd1",
   "metadata": {},
   "outputs": [
    {
     "data": {
      "text/plain": [
       "240887"
      ]
     },
     "execution_count": 29,
     "metadata": {},
     "output_type": "execute_result"
    }
   ],
   "source": [
    "logs = logs[logs.date >= dt.date(2019, 8, 1)]\n",
    "logs.shape[0]"
   ]
  },
  {
   "cell_type": "code",
   "execution_count": 30,
   "id": "a258390b",
   "metadata": {
    "scrolled": false
   },
   "outputs": [
    {
     "data": {
      "text/plain": [
       "1.33"
      ]
     },
     "execution_count": 30,
     "metadata": {},
     "output_type": "execute_result"
    }
   ],
   "source": [
    "# процент удаленных данных\n",
    "round(\n",
    "    (1 - logs.shape[0] / len_logs_raw) * 100, 2\n",
    ")"
   ]
  },
  {
   "cell_type": "code",
   "execution_count": 31,
   "id": "fd08d6ee",
   "metadata": {},
   "outputs": [
    {
     "data": {
      "text/plain": [
       "7534"
      ]
     },
     "execution_count": 31,
     "metadata": {},
     "output_type": "execute_result"
    }
   ],
   "source": [
    "# количество пользователей после удаления данных\n",
    "logs.device_id_hash.nunique()"
   ]
  },
  {
   "cell_type": "code",
   "execution_count": 32,
   "id": "8688cd35",
   "metadata": {},
   "outputs": [
    {
     "data": {
      "text/plain": [
       "17"
      ]
     },
     "metadata": {},
     "output_type": "display_data"
    },
    {
     "data": {
      "text/plain": [
       "0.23"
      ]
     },
     "execution_count": 32,
     "metadata": {},
     "output_type": "execute_result"
    }
   ],
   "source": [
    "# количество удаленных пользователей\n",
    "display(unique_users_raw - logs.device_id_hash.nunique())\n",
    "# процент удаленных пользователей\n",
    "round(\n",
    "    (1 - logs.device_id_hash.nunique() / unique_users_raw) * 100, 2\n",
    ")"
   ]
  },
  {
   "cell_type": "markdown",
   "id": "fc9b1dbd",
   "metadata": {},
   "source": [
    "Таким образом, удалили `1.33%` записей от изначального количества (после удаления дубликатов и неполных данных за прошлый период). В это число входят данные `17` пользователей (`0.23%` от общего количества пользователей)."
   ]
  },
  {
   "cell_type": "code",
   "execution_count": 33,
   "id": "4187fc72",
   "metadata": {},
   "outputs": [
    {
     "data": {
      "image/png": "[encoded data removed]",
      "text/plain": [
       "<Figure size 1700x600 with 1 Axes>"
      ]
     },
     "metadata": {},
     "output_type": "display_data"
    }
   ],
   "source": [
    "sns.histplot(logs.date, shrink=0.95)\n",
    "plt.title('Гистограмма количества данных по дате')\n",
    "plt.xlabel('Дата')\n",
    "plt.show()"
   ]
  },
  {
   "cell_type": "code",
   "execution_count": 34,
   "id": "5c8ad970",
   "metadata": {},
   "outputs": [
    {
     "data": {
      "text/html": [
       "<style type=\"text/css\">\n",
       "#T_c1348_row0_col1 {\n",
       "  background-color: #023858;\n",
       "  color: #f1f1f1;\n",
       "}\n",
       "#T_c1348_row1_col1 {\n",
       "  background-color: #045788;\n",
       "  color: #f1f1f1;\n",
       "}\n",
       "#T_c1348_row2_col1 {\n",
       "  background-color: #8fb4d6;\n",
       "  color: #000000;\n",
       "}\n",
       "#T_c1348_row3_col1 {\n",
       "  background-color: #a8bedc;\n",
       "  color: #000000;\n",
       "}\n",
       "#T_c1348_row4_col1 {\n",
       "  background-color: #023c5f;\n",
       "  color: #f1f1f1;\n",
       "}\n",
       "#T_c1348_row5_col1 {\n",
       "  background-color: #034a74;\n",
       "  color: #f1f1f1;\n",
       "}\n",
       "#T_c1348_row6_col1 {\n",
       "  background-color: #fff7fb;\n",
       "  color: #000000;\n",
       "}\n",
       "</style>\n",
       "<table id=\"T_c1348\">\n",
       "  <thead>\n",
       "    <tr>\n",
       "      <th class=\"blank level0\" >&nbsp;</th>\n",
       "      <th id=\"T_c1348_level0_col0\" class=\"col_heading level0 col0\" >date</th>\n",
       "      <th id=\"T_c1348_level0_col1\" class=\"col_heading level0 col1\" >events_count</th>\n",
       "    </tr>\n",
       "  </thead>\n",
       "  <tbody>\n",
       "    <tr>\n",
       "      <th id=\"T_c1348_level0_row0\" class=\"row_heading level0 row0\" >0</th>\n",
       "      <td id=\"T_c1348_row0_col0\" class=\"data row0 col0\" >2019-08-01</td>\n",
       "      <td id=\"T_c1348_row0_col1\" class=\"data row0 col1\" >36141</td>\n",
       "    </tr>\n",
       "    <tr>\n",
       "      <th id=\"T_c1348_level0_row1\" class=\"row_heading level0 row1\" >1</th>\n",
       "      <td id=\"T_c1348_row1_col0\" class=\"data row1 col0\" >2019-08-02</td>\n",
       "      <td id=\"T_c1348_row1_col1\" class=\"data row1 col1\" >35554</td>\n",
       "    </tr>\n",
       "    <tr>\n",
       "      <th id=\"T_c1348_level0_row2\" class=\"row_heading level0 row2\" >2</th>\n",
       "      <td id=\"T_c1348_row2_col0\" class=\"data row2 col0\" >2019-08-03</td>\n",
       "      <td id=\"T_c1348_row2_col1\" class=\"data row2 col1\" >33282</td>\n",
       "    </tr>\n",
       "    <tr>\n",
       "      <th id=\"T_c1348_level0_row3\" class=\"row_heading level0 row3\" >3</th>\n",
       "      <td id=\"T_c1348_row3_col0\" class=\"data row3 col0\" >2019-08-04</td>\n",
       "      <td id=\"T_c1348_row3_col1\" class=\"data row3 col1\" >32968</td>\n",
       "    </tr>\n",
       "    <tr>\n",
       "      <th id=\"T_c1348_level0_row4\" class=\"row_heading level0 row4\" >4</th>\n",
       "      <td id=\"T_c1348_row4_col0\" class=\"data row4 col0\" >2019-08-05</td>\n",
       "      <td id=\"T_c1348_row4_col1\" class=\"data row4 col1\" >36058</td>\n",
       "    </tr>\n",
       "    <tr>\n",
       "      <th id=\"T_c1348_level0_row5\" class=\"row_heading level0 row5\" >5</th>\n",
       "      <td id=\"T_c1348_row5_col0\" class=\"data row5 col0\" >2019-08-06</td>\n",
       "      <td id=\"T_c1348_row5_col1\" class=\"data row5 col1\" >35788</td>\n",
       "    </tr>\n",
       "    <tr>\n",
       "      <th id=\"T_c1348_level0_row6\" class=\"row_heading level0 row6\" >6</th>\n",
       "      <td id=\"T_c1348_row6_col0\" class=\"data row6 col0\" >2019-08-07</td>\n",
       "      <td id=\"T_c1348_row6_col1\" class=\"data row6 col1\" >31096</td>\n",
       "    </tr>\n",
       "  </tbody>\n",
       "</table>\n"
      ],
      "text/plain": [
       "<pandas.io.formats.style.Styler at 0x11bfb1ed0>"
      ]
     },
     "execution_count": 34,
     "metadata": {},
     "output_type": "execute_result"
    }
   ],
   "source": [
    "(\n",
    "    logs\n",
    "    .pivot_table(index='date', values='event_name', aggfunc='count')\n",
    "    .reset_index()\n",
    "    .rename(columns={'event_name': 'events_count'})\n",
    "    .style.background_gradient()\n",
    ")"
   ]
  },
  {
   "cell_type": "markdown",
   "id": "84ba9e60",
   "metadata": {},
   "source": [
    "Получили данные за `7 дней` - c `1 августа 2019` года по `7 августа 2019 года`. В каждый день зафиксировано сопоставимое количество событий."
   ]
  },
  {
   "cell_type": "code",
   "execution_count": 35,
   "id": "1dc9cf13",
   "metadata": {
    "scrolled": false
   },
   "outputs": [
    {
     "data": {
      "image/png": "[encoded data removed]",
      "text/plain": [
       "<Figure size 1700x600 with 1 Axes>"
      ]
     },
     "metadata": {},
     "output_type": "display_data"
    }
   ],
   "source": [
    "sns.barplot(\n",
    "    data=logs.pivot_table(index='exp_id', values='event_name', aggfunc='count').reset_index(), \n",
    "    y='exp_id', \n",
    "    x='event_name',\n",
    "    palette='pastel',\n",
    "    width=0.5, \n",
    "    orient='h'\n",
    ")\n",
    "plt.title('Количество данных в группе эксперимента')\n",
    "plt.ylabel('Группа')\n",
    "plt.xlabel('Количество событий')\n",
    "plt.show()"
   ]
  },
  {
   "cell_type": "code",
   "execution_count": 36,
   "id": "b767366d",
   "metadata": {},
   "outputs": [
    {
     "data": {
      "image/png": "[encoded data removed]",
      "text/plain": [
       "<Figure size 1700x600 with 1 Axes>"
      ]
     },
     "metadata": {},
     "output_type": "display_data"
    }
   ],
   "source": [
    "sns.barplot(\n",
    "    data=logs.pivot_table(index='exp_id', values='device_id_hash', aggfunc='nunique').reset_index(), \n",
    "    y='exp_id', \n",
    "    x='device_id_hash',\n",
    "    palette='pastel',\n",
    "    width=0.5, \n",
    "    orient='h'\n",
    ")\n",
    "plt.title('Количество пользователей в группе эксперимента')\n",
    "plt.ylabel('Группа')\n",
    "plt.xlabel('Количество пользователей')\n",
    "plt.show()"
   ]
  },
  {
   "cell_type": "code",
   "execution_count": 37,
   "id": "f0e0f2d3",
   "metadata": {
    "scrolled": false
   },
   "outputs": [
    {
     "data": {
      "text/html": [
       "<style type=\"text/css\">\n",
       "#T_83861_row0_col0, #T_83861_row0_col2, #T_83861_row1_col1 {\n",
       "  background-color: #fff7fb;\n",
       "  color: #000000;\n",
       "}\n",
       "#T_83861_row0_col1 {\n",
       "  background-color: #bfc9e1;\n",
       "  color: #000000;\n",
       "}\n",
       "#T_83861_row1_col0 {\n",
       "  background-color: #73a9cf;\n",
       "  color: #f1f1f1;\n",
       "}\n",
       "#T_83861_row1_col2 {\n",
       "  background-color: #5c9fc9;\n",
       "  color: #f1f1f1;\n",
       "}\n",
       "#T_83861_row2_col0, #T_83861_row2_col1, #T_83861_row2_col2 {\n",
       "  background-color: #023858;\n",
       "  color: #f1f1f1;\n",
       "}\n",
       "</style>\n",
       "<table id=\"T_83861\">\n",
       "  <thead>\n",
       "    <tr>\n",
       "      <th class=\"blank level0\" >&nbsp;</th>\n",
       "      <th id=\"T_83861_level0_col0\" class=\"col_heading level0 col0\" >exp_id</th>\n",
       "      <th id=\"T_83861_level0_col1\" class=\"col_heading level0 col1\" >events_count</th>\n",
       "      <th id=\"T_83861_level0_col2\" class=\"col_heading level0 col2\" >users_count</th>\n",
       "    </tr>\n",
       "  </thead>\n",
       "  <tbody>\n",
       "    <tr>\n",
       "      <th id=\"T_83861_level0_row0\" class=\"row_heading level0 row0\" >0</th>\n",
       "      <td id=\"T_83861_row0_col0\" class=\"data row0 col0\" >246</td>\n",
       "      <td id=\"T_83861_row0_col1\" class=\"data row0 col1\" >79302</td>\n",
       "      <td id=\"T_83861_row0_col2\" class=\"data row0 col2\" >2484</td>\n",
       "    </tr>\n",
       "    <tr>\n",
       "      <th id=\"T_83861_level0_row1\" class=\"row_heading level0 row1\" >1</th>\n",
       "      <td id=\"T_83861_row1_col0\" class=\"data row1 col0\" >247</td>\n",
       "      <td id=\"T_83861_row1_col1\" class=\"data row1 col1\" >77022</td>\n",
       "      <td id=\"T_83861_row1_col2\" class=\"data row1 col2\" >2513</td>\n",
       "    </tr>\n",
       "    <tr>\n",
       "      <th id=\"T_83861_level0_row2\" class=\"row_heading level0 row2\" >2</th>\n",
       "      <td id=\"T_83861_row2_col0\" class=\"data row2 col0\" >248</td>\n",
       "      <td id=\"T_83861_row2_col1\" class=\"data row2 col1\" >84563</td>\n",
       "      <td id=\"T_83861_row2_col2\" class=\"data row2 col2\" >2537</td>\n",
       "    </tr>\n",
       "  </tbody>\n",
       "</table>\n"
      ],
      "text/plain": [
       "<pandas.io.formats.style.Styler at 0x11c02ffa0>"
      ]
     },
     "execution_count": 37,
     "metadata": {},
     "output_type": "execute_result"
    }
   ],
   "source": [
    "groups = (\n",
    "    logs\n",
    "    .pivot_table(index='exp_id', values='device_id_hash', aggfunc=['count', 'nunique'])\n",
    "    .reset_index()\n",
    "    .rename(columns={'count': 'events_count', 'nunique': 'users_count'})\n",
    ")\n",
    "groups.columns = groups.columns.droplevel(1)\n",
    "groups.style.background_gradient()"
   ]
  },
  {
   "cell_type": "markdown",
   "id": "7b1e3a83",
   "metadata": {},
   "source": [
    "В каждой группе достаточное количество событий и пользователей, чтобы можно было проводить дальнейший анализ."
   ]
  },
  {
   "cell_type": "markdown",
   "id": "1216da8c",
   "metadata": {},
   "source": [
    "Таким образом в нашем распоряжении имеется `240887` записей о действиях `7534` пользователей с `1 по 7 августа  2019 года`. Все пользователи и их действия разделены на три группы:\n",
    "* группа **246** (`A`) - `79302` события `2484` пользователей\n",
    "* группа **247** (`A`) - `77022` события `2513` пользователей\n",
    "* группа **248** (`B`) - `84563` события `2537` пользователей"
   ]
  },
  {
   "cell_type": "markdown",
   "id": "89ef7dce",
   "metadata": {},
   "source": [
    "## Воронка событий"
   ]
  },
  {
   "cell_type": "code",
   "execution_count": 38,
   "id": "01c44221",
   "metadata": {},
   "outputs": [
    {
     "data": {
      "text/plain": [
       "5"
      ]
     },
     "execution_count": 38,
     "metadata": {},
     "output_type": "execute_result"
    }
   ],
   "source": [
    "# количество уникальных типов событий\n",
    "logs.event_name.nunique()"
   ]
  },
  {
   "cell_type": "code",
   "execution_count": 39,
   "id": "72058db2",
   "metadata": {},
   "outputs": [
    {
     "data": {
      "text/plain": [
       "array(['Tutorial', 'MainScreenAppear', 'OffersScreenAppear',\n",
       "       'CartScreenAppear', 'PaymentScreenSuccessful'], dtype=object)"
      ]
     },
     "execution_count": 39,
     "metadata": {},
     "output_type": "execute_result"
    }
   ],
   "source": [
    "logs.event_name.unique()"
   ]
  },
  {
   "cell_type": "markdown",
   "id": "6ce502c4",
   "metadata": {},
   "source": [
    "Всего есть 5 типов событий:\n",
    "* `MainScreenAppear` - показ главной страницы\n",
    "* `PaymentScreenSuccessful` - страница с успешной оплатой\n",
    "* `CartScreenAppear` - показ корзины\n",
    "* `OffersScreenAppear` - показ страницы с предложениями\n",
    "* `Tutorial` - руководство"
   ]
  },
  {
   "cell_type": "code",
   "execution_count": 40,
   "id": "2ba346be",
   "metadata": {},
   "outputs": [
    {
     "data": {
      "image/png": "[encoded data removed]",
      "text/plain": [
       "<Figure size 1700x600 with 1 Axes>"
      ]
     },
     "metadata": {},
     "output_type": "display_data"
    }
   ],
   "source": [
    "sns.barplot(\n",
    "    data=logs.pivot_table(\n",
    "        index='event_name', \n",
    "        values='event_timestamp', \n",
    "        aggfunc='count'\n",
    "    ).reset_index().sort_values('event_timestamp', ascending=False), \n",
    "    y='event_timestamp', \n",
    "    x='event_name',\n",
    "    palette='pastel',\n",
    "    width=0.5\n",
    ")\n",
    "plt.title('Гистограмма количества событий каждого типа')\n",
    "plt.xlabel('Тип события')\n",
    "plt.ylabel('Количество событий')\n",
    "plt.show()"
   ]
  },
  {
   "cell_type": "code",
   "execution_count": 41,
   "id": "3f199366",
   "metadata": {
    "scrolled": false
   },
   "outputs": [
    {
     "data": {
      "text/html": [
       "<div>\n",
       "<style scoped>\n",
       "    .dataframe tbody tr th:only-of-type {\n",
       "        vertical-align: middle;\n",
       "    }\n",
       "\n",
       "    .dataframe tbody tr th {\n",
       "        vertical-align: top;\n",
       "    }\n",
       "\n",
       "    .dataframe thead th {\n",
       "        text-align: right;\n",
       "    }\n",
       "</style>\n",
       "<table border=\"1\" class=\"dataframe\">\n",
       "  <thead>\n",
       "    <tr style=\"text-align: right;\">\n",
       "      <th></th>\n",
       "      <th>event_name</th>\n",
       "      <th>events_count</th>\n",
       "      <th>percent_of_all_events</th>\n",
       "    </tr>\n",
       "  </thead>\n",
       "  <tbody>\n",
       "    <tr>\n",
       "      <th>1</th>\n",
       "      <td>MainScreenAppear</td>\n",
       "      <td>117328</td>\n",
       "      <td>48.71</td>\n",
       "    </tr>\n",
       "    <tr>\n",
       "      <th>2</th>\n",
       "      <td>OffersScreenAppear</td>\n",
       "      <td>46333</td>\n",
       "      <td>19.23</td>\n",
       "    </tr>\n",
       "    <tr>\n",
       "      <th>0</th>\n",
       "      <td>CartScreenAppear</td>\n",
       "      <td>42303</td>\n",
       "      <td>17.56</td>\n",
       "    </tr>\n",
       "    <tr>\n",
       "      <th>3</th>\n",
       "      <td>PaymentScreenSuccessful</td>\n",
       "      <td>33918</td>\n",
       "      <td>14.08</td>\n",
       "    </tr>\n",
       "    <tr>\n",
       "      <th>4</th>\n",
       "      <td>Tutorial</td>\n",
       "      <td>1005</td>\n",
       "      <td>0.42</td>\n",
       "    </tr>\n",
       "  </tbody>\n",
       "</table>\n",
       "</div>"
      ],
      "text/plain": [
       "                event_name  events_count  percent_of_all_events\n",
       "1         MainScreenAppear        117328                  48.71\n",
       "2       OffersScreenAppear         46333                  19.23\n",
       "0         CartScreenAppear         42303                  17.56\n",
       "3  PaymentScreenSuccessful         33918                  14.08\n",
       "4                 Tutorial          1005                   0.42"
      ]
     },
     "execution_count": 41,
     "metadata": {},
     "output_type": "execute_result"
    }
   ],
   "source": [
    "events_count = (\n",
    "    logs\n",
    "    .pivot_table(index='event_name', values='event_timestamp', aggfunc='count')\n",
    "    .reset_index()\n",
    "    .rename(columns={'event_timestamp': 'events_count'})\n",
    "    .sort_values('events_count', ascending=False)\n",
    ")\n",
    "events_count['percent_of_all_events'] = round(events_count.events_count / logs.shape[0] * 100, 2)\n",
    "events_count"
   ]
  },
  {
   "cell_type": "markdown",
   "id": "5f4145e4",
   "metadata": {},
   "source": [
    "Имеем `5` типов событий. Можно предположить, что именно так и строится наша воронка событий для пользователя: показ главной страницы, далее страница с предложениями, страница корзины и сообщение об успешной оплате. А страницу с руководством посещают редко (всего `0.42%` от всех событий) и ее посещение не влияет на данную воронку, также посещение руководства может происходить в любой момент, поэтому удалим эти события."
   ]
  },
  {
   "cell_type": "code",
   "execution_count": 42,
   "id": "391dc356",
   "metadata": {},
   "outputs": [],
   "source": [
    "logs = logs[logs.event_name != 'Tutorial']"
   ]
  },
  {
   "cell_type": "code",
   "execution_count": 43,
   "id": "d8040ed0",
   "metadata": {},
   "outputs": [
    {
     "data": {
      "text/plain": [
       "98.26"
      ]
     },
     "execution_count": 43,
     "metadata": {},
     "output_type": "execute_result"
    }
   ],
   "source": [
    "# процент оставшихся данных\n",
    "round(\n",
    "    (logs.shape[0] / len_logs_raw) * 100, 2\n",
    ")"
   ]
  },
  {
   "cell_type": "code",
   "execution_count": 44,
   "id": "93c713f5",
   "metadata": {
    "scrolled": true
   },
   "outputs": [
    {
     "data": {
      "text/plain": [
       "21"
      ]
     },
     "metadata": {},
     "output_type": "display_data"
    },
    {
     "data": {
      "text/plain": [
       "99.72"
      ]
     },
     "execution_count": 44,
     "metadata": {},
     "output_type": "execute_result"
    }
   ],
   "source": [
    "# количество удаленных пользователей\n",
    "display(unique_users_raw - logs.device_id_hash.nunique())\n",
    "# процент оставшихся пользователей\n",
    "round(\n",
    "    (logs.device_id_hash.nunique() / unique_users_raw) * 100, 2\n",
    ")"
   ]
  },
  {
   "cell_type": "markdown",
   "id": "0acfb2ef",
   "metadata": {},
   "source": [
    "После удаления записей о посещении страницы руководства осталось `98.26%` от изначальных данных (`99.72%` всех пользователей)."
   ]
  },
  {
   "cell_type": "code",
   "execution_count": 45,
   "id": "dfefbcc6",
   "metadata": {
    "scrolled": true
   },
   "outputs": [
    {
     "data": {
      "text/html": [
       "<div>\n",
       "<style scoped>\n",
       "    .dataframe tbody tr th:only-of-type {\n",
       "        vertical-align: middle;\n",
       "    }\n",
       "\n",
       "    .dataframe tbody tr th {\n",
       "        vertical-align: top;\n",
       "    }\n",
       "\n",
       "    .dataframe thead th {\n",
       "        text-align: right;\n",
       "    }\n",
       "</style>\n",
       "<table border=\"1\" class=\"dataframe\">\n",
       "  <thead>\n",
       "    <tr style=\"text-align: right;\">\n",
       "      <th></th>\n",
       "      <th>event_name</th>\n",
       "      <th>users_count</th>\n",
       "      <th>percent_of_all_users</th>\n",
       "      <th>percent_by_steps</th>\n",
       "    </tr>\n",
       "  </thead>\n",
       "  <tbody>\n",
       "    <tr>\n",
       "      <th>0</th>\n",
       "      <td>MainScreenAppear</td>\n",
       "      <td>7419</td>\n",
       "      <td>98.53</td>\n",
       "      <td>100.00</td>\n",
       "    </tr>\n",
       "    <tr>\n",
       "      <th>1</th>\n",
       "      <td>OffersScreenAppear</td>\n",
       "      <td>4593</td>\n",
       "      <td>61.00</td>\n",
       "      <td>61.91</td>\n",
       "    </tr>\n",
       "    <tr>\n",
       "      <th>2</th>\n",
       "      <td>CartScreenAppear</td>\n",
       "      <td>3734</td>\n",
       "      <td>49.59</td>\n",
       "      <td>81.30</td>\n",
       "    </tr>\n",
       "    <tr>\n",
       "      <th>3</th>\n",
       "      <td>PaymentScreenSuccessful</td>\n",
       "      <td>3539</td>\n",
       "      <td>47.00</td>\n",
       "      <td>94.78</td>\n",
       "    </tr>\n",
       "  </tbody>\n",
       "</table>\n",
       "</div>"
      ],
      "text/plain": [
       "                event_name  users_count  percent_of_all_users  \\\n",
       "0         MainScreenAppear         7419                 98.53   \n",
       "1       OffersScreenAppear         4593                 61.00   \n",
       "2         CartScreenAppear         3734                 49.59   \n",
       "3  PaymentScreenSuccessful         3539                 47.00   \n",
       "\n",
       "   percent_by_steps  \n",
       "0            100.00  \n",
       "1             61.91  \n",
       "2             81.30  \n",
       "3             94.78  "
      ]
     },
     "execution_count": 45,
     "metadata": {},
     "output_type": "execute_result"
    }
   ],
   "source": [
    "users_count = (\n",
    "    logs\n",
    "    .pivot_table(index='event_name', values='device_id_hash', aggfunc='nunique')\n",
    "    .rename(columns={'device_id_hash': 'users_count'})\n",
    "    .sort_values('users_count', ascending=False)\n",
    "    .reset_index()\n",
    ")\n",
    "users_count['percent_of_all_users'] = round(users_count.users_count / logs.device_id_hash.nunique() * 100, 2)\n",
    "for i in users_count.index:\n",
    "    if i == 0:\n",
    "        users_count.loc[i, 'percent_by_steps'] = 100.0\n",
    "    else:\n",
    "        users_count.loc[i, 'percent_by_steps'] = round(\n",
    "            users_count.loc[i, 'users_count'] / users_count.loc[i - 1, 'users_count'] * 100, 2\n",
    "        )\n",
    "users_count"
   ]
  },
  {
   "cell_type": "markdown",
   "id": "e290e811",
   "metadata": {},
   "source": [
    "Почти все пользователи посещают главную страницу (98.53%). Поэтому мы можем построить воронку, приняв посещение главной страницы за 100%."
   ]
  },
  {
   "cell_type": "code",
   "execution_count": 46,
   "id": "687ff82a",
   "metadata": {},
   "outputs": [
    {
     "data": {
      "image/png": "[encoded data removed]"
     },
     "metadata": {},
     "output_type": "display_data"
    }
   ],
   "source": [
    "fig = go.Figure(\n",
    "    go.Funnel(\n",
    "        y = users_count.event_name, \n",
    "        x = users_count.users_count, \n",
    "        textinfo = 'value+percent initial'\n",
    "    )\n",
    ")\n",
    "\n",
    "fig.show('png')"
   ]
  },
  {
   "cell_type": "markdown",
   "id": "3f0617fc",
   "metadata": {},
   "source": [
    "Таким образом, при прохождении воронки на каждом этапе теряются пользователи. Наибольшие потери при переходе от главной страницы к странице с предложениями. Только `62%` пользователей доходят до этого этапа. На следующих этапах потери не такие большие: `81%` пользователей, посетивших страницу с предложениями переходит в корзину, и `95%` пользователей совершают оплату, если они уже были на странице корзины. Всего до оплаты доходит `47%` от изначального количества пользователей."
   ]
  },
  {
   "cell_type": "markdown",
   "id": "eb1e0d14",
   "metadata": {},
   "source": [
    "## Результаты эксперимента"
   ]
  },
  {
   "cell_type": "code",
   "execution_count": 47,
   "id": "0b16c2ae",
   "metadata": {
    "scrolled": true
   },
   "outputs": [
    {
     "data": {
      "text/html": [
       "<style type=\"text/css\">\n",
       "#T_96947_row0_col0, #T_96947_row0_col2, #T_96947_row1_col1 {\n",
       "  background-color: #fff7fb;\n",
       "  color: #000000;\n",
       "}\n",
       "#T_96947_row0_col1 {\n",
       "  background-color: #bdc8e1;\n",
       "  color: #000000;\n",
       "}\n",
       "#T_96947_row1_col0 {\n",
       "  background-color: #73a9cf;\n",
       "  color: #f1f1f1;\n",
       "}\n",
       "#T_96947_row1_col2 {\n",
       "  background-color: #589ec8;\n",
       "  color: #f1f1f1;\n",
       "}\n",
       "#T_96947_row2_col0, #T_96947_row2_col1, #T_96947_row2_col2 {\n",
       "  background-color: #023858;\n",
       "  color: #f1f1f1;\n",
       "}\n",
       "</style>\n",
       "<table id=\"T_96947\">\n",
       "  <thead>\n",
       "    <tr>\n",
       "      <th class=\"blank level0\" >&nbsp;</th>\n",
       "      <th id=\"T_96947_level0_col0\" class=\"col_heading level0 col0\" >exp_id</th>\n",
       "      <th id=\"T_96947_level0_col1\" class=\"col_heading level0 col1\" >events_count</th>\n",
       "      <th id=\"T_96947_level0_col2\" class=\"col_heading level0 col2\" >users_count</th>\n",
       "    </tr>\n",
       "  </thead>\n",
       "  <tbody>\n",
       "    <tr>\n",
       "      <th id=\"T_96947_level0_row0\" class=\"row_heading level0 row0\" >0</th>\n",
       "      <td id=\"T_96947_row0_col0\" class=\"data row0 col0\" >246</td>\n",
       "      <td id=\"T_96947_row0_col1\" class=\"data row0 col1\" >78985</td>\n",
       "      <td id=\"T_96947_row0_col2\" class=\"data row0 col2\" >2483</td>\n",
       "    </tr>\n",
       "    <tr>\n",
       "      <th id=\"T_96947_level0_row1\" class=\"row_heading level0 row1\" >1</th>\n",
       "      <td id=\"T_96947_row1_col0\" class=\"data row1 col0\" >247</td>\n",
       "      <td id=\"T_96947_row1_col1\" class=\"data row1 col1\" >76684</td>\n",
       "      <td id=\"T_96947_row1_col2\" class=\"data row1 col2\" >2512</td>\n",
       "    </tr>\n",
       "    <tr>\n",
       "      <th id=\"T_96947_level0_row2\" class=\"row_heading level0 row2\" >2</th>\n",
       "      <td id=\"T_96947_row2_col0\" class=\"data row2 col0\" >248</td>\n",
       "      <td id=\"T_96947_row2_col1\" class=\"data row2 col1\" >84213</td>\n",
       "      <td id=\"T_96947_row2_col2\" class=\"data row2 col2\" >2535</td>\n",
       "    </tr>\n",
       "  </tbody>\n",
       "</table>\n"
      ],
      "text/plain": [
       "<pandas.io.formats.style.Styler at 0x11c15fb20>"
      ]
     },
     "execution_count": 47,
     "metadata": {},
     "output_type": "execute_result"
    }
   ],
   "source": [
    "# т.к. удалили записи о посещении руководства, \n",
    "# выведем еще раз таблицу с количеством событий и пользователей по группам\n",
    "groups = (\n",
    "    logs\n",
    "    .pivot_table(index='exp_id', values='device_id_hash', aggfunc=['count', 'nunique'])\n",
    "    .reset_index()\n",
    "    .rename(columns={'count': 'events_count', 'nunique': 'users_count'})\n",
    ")\n",
    "groups.columns = groups.columns.droplevel(1)\n",
    "groups.style.background_gradient()"
   ]
  },
  {
   "cell_type": "markdown",
   "id": "6795013c",
   "metadata": {},
   "source": [
    "Необходимо сравнивать доли клиентов в каждом событии в каждой группе.\n",
    "\n",
    "Согласно центральной предельной теореме выборочные доли будут нормально распределены вокруг настоящей. Поэтому для проверки гипотез мы можем воспользоваться Z-тестом со стандартным нормальным распределением: со средним, равным нулю, и стандартным отклонением, равным единице.\n",
    "$$ Z \\approx \\frac{(P_1 - P_2) - (\\pi_1 - \\pi_2)}{\\sqrt{P(1-P)(1/n_1 + 1/n_2)}} \\sim N(0, 1) $$\n",
    "* $n_1$ и $n_2$ - размеры двух сравниваемых выборок, то есть количества наблюдений в них, в нашем случае это будут количества пользователей в группах\n",
    "* $P_1$ и $P_2$ - пропорции, наблюдаемые в выборках - отношения количества пользователей в событии к общим количествам пользователей по группам\n",
    "* $P$ - пропорция в выборке, скомбинированной из двух наблюдаемых - отношение общего количества пользователей в событии в обеих группах к общему количеству пользователей обеих групп\n",
    "* $\\pi_1$ и $\\pi_2$ - настоящие пропорции в сравниваемых генеральных совокупностях\n",
    "\n",
    "Будем проверять гипотезу о равенстве $\\pi_1$ и $\\pi_2$. Тогда при верной нулевой гипотезе выражение $(\\pi_1 - \\pi_2)$ в числителе будет равно нулю, и критерий можно рассчитывать только по выборочным данным.\n",
    "\n",
    "Будем проводить двусторонние тесты для проверки равенства пропорций двух генеральных совокупностей."
   ]
  },
  {
   "cell_type": "code",
   "execution_count": 48,
   "id": "d6faa99b",
   "metadata": {},
   "outputs": [],
   "source": [
    "# зададим функцию для проверки гипотезы о равенстве долей\n",
    "def z_test(successes, trials, alpha):\n",
    "\n",
    "    # пропорция успехов в первой группе:\n",
    "    p1 = successes[0] / trials[0]\n",
    "\n",
    "    # пропорция успехов во второй группе:\n",
    "    p2 = successes[1] / trials[1]\n",
    "\n",
    "    # пропорция успехов в комбинированном датасете:\n",
    "    p_combined = (successes[0] + successes[1]) / (trials[0] + trials[1])\n",
    "\n",
    "    # разница пропорций в датасетах\n",
    "    difference = p1 - p2\n",
    "\n",
    "    # считаем статистику в ст.отклонениях стандартного нормального распределения\n",
    "    z_value = difference / mth.sqrt(p_combined * (1 - p_combined) * (1 / trials[0] + 1 / trials[1]))\n",
    "\n",
    "    # задаем стандартное нормальное распределение (среднее 0, ст.отклонение 1)\n",
    "    distr = st.norm(0, 1) \n",
    "\n",
    "    # p-value для двустороннего теста\n",
    "    p_value = (1 - distr.cdf(abs(z_value))) * 2\n",
    "\n",
    "    print('p-значение: ', p_value)\n",
    "\n",
    "    if p_value < alpha:\n",
    "        print('Отвергаем нулевую гипотезу: между долями есть значимая разница')\n",
    "    else:\n",
    "        print(\n",
    "            'Не получилось отвергнуть нулевую гипотезу, нет оснований считать доли разными'\n",
    "        )"
   ]
  },
  {
   "cell_type": "markdown",
   "id": "41d8b09f",
   "metadata": {},
   "source": [
    "Т.к. будем проводить множественный тест для проверки равенства долей, то введем поправку Бонферрони для уровня значимости. Будем сравнивать доли в группах $A_1/A_2$, $A_1/B$, $A_2/B$, $(A_1 + A_2)/B$, в каждой группе по 4 теста - проверка равенства долей клиентов на главной странице, проверка равенства долей клиентов на странице предложений, проверка равенства долей клиентов в корзине, проверка равенства долей клиентов с оплатой. Таким образом, имеем 4 теста для 4-х вариантов групповых сравнений, т.е. всего будет 16 тестов. Тогда уровень значимости $\\alpha$ будет с учетом поправки Бонферрони будет равен $\\alpha = \\alpha/m$, где $\\alpha = 0.05$, $m = 16$."
   ]
  },
  {
   "cell_type": "code",
   "execution_count": 49,
   "id": "dde9baf6",
   "metadata": {},
   "outputs": [],
   "source": [
    "alpha_bonferroni = 0.05 / 16"
   ]
  },
  {
   "cell_type": "markdown",
   "id": "e7390136",
   "metadata": {},
   "source": [
    "### A/A тест (группы 246 и 247)"
   ]
  },
  {
   "cell_type": "markdown",
   "id": "7828b1c9",
   "metadata": {},
   "source": [
    "У нас есть 2 контрольные группы для А/А-эксперимента (**246** и **247**). Чтобы проверить корректность всех механизмов и расчётов, необходимо проверить, находят ли статистические критерии разницу между данными выборками. Будем проверять доли клиентов на каждом из этапов."
   ]
  },
  {
   "cell_type": "markdown",
   "id": "ba3a379b",
   "metadata": {},
   "source": [
    "**Нулевая гипотеза**: доли клиентов на главной странице одинаковы в обеих группах.\n",
    "\n",
    "**Альтернативная гипотеза**: доли клиентов на главной странице в группах неравны."
   ]
  },
  {
   "cell_type": "code",
   "execution_count": 50,
   "id": "bb79345c",
   "metadata": {},
   "outputs": [],
   "source": [
    "# общее количество пользователей в группах\n",
    "unique_users = np.array([\n",
    "    logs[logs.exp_id == 246].device_id_hash.nunique(),\n",
    "    logs[logs.exp_id == 247].device_id_hash.nunique()\n",
    "])"
   ]
  },
  {
   "cell_type": "code",
   "execution_count": 51,
   "id": "f2e8ab46",
   "metadata": {},
   "outputs": [],
   "source": [
    "# количество пользователей на главной странице по группам\n",
    "users_on_main_screen = np.array([\n",
    "    logs[(logs.exp_id == 246) & (logs.event_name == 'MainScreenAppear')].device_id_hash.nunique(),\n",
    "    logs[(logs.exp_id == 247) & (logs.event_name == 'MainScreenAppear')].device_id_hash.nunique()\n",
    "])"
   ]
  },
  {
   "cell_type": "code",
   "execution_count": 52,
   "id": "c376ea8b",
   "metadata": {
    "scrolled": true
   },
   "outputs": [
    {
     "name": "stdout",
     "output_type": "stream",
     "text": [
      "p-значение:  0.7526703436483038\n",
      "Не получилось отвергнуть нулевую гипотезу, нет оснований считать доли разными\n"
     ]
    }
   ],
   "source": [
    "z_test(users_on_main_screen, unique_users, alpha_bonferroni)"
   ]
  },
  {
   "cell_type": "markdown",
   "id": "57ca13f6",
   "metadata": {},
   "source": [
    "**Нулевая гипотеза**: доли клиентов на странице предложений одинаковы в обеих группах.\n",
    "\n",
    "**Альтернативная гипотеза**: доли клиентов на странице предложений в группах неравны."
   ]
  },
  {
   "cell_type": "code",
   "execution_count": 53,
   "id": "e8b919e9",
   "metadata": {},
   "outputs": [],
   "source": [
    "# количество пользователей на странице предложений по группам\n",
    "users_on_offers_screen = np.array([\n",
    "    logs[(logs.exp_id == 246) & (logs.event_name == 'OffersScreenAppear')].device_id_hash.nunique(),\n",
    "    logs[(logs.exp_id == 247) & (logs.event_name == 'OffersScreenAppear')].device_id_hash.nunique()\n",
    "])"
   ]
  },
  {
   "cell_type": "code",
   "execution_count": 54,
   "id": "84d1de39",
   "metadata": {
    "scrolled": true
   },
   "outputs": [
    {
     "name": "stdout",
     "output_type": "stream",
     "text": [
      "p-значение:  0.24786096925282264\n",
      "Не получилось отвергнуть нулевую гипотезу, нет оснований считать доли разными\n"
     ]
    }
   ],
   "source": [
    "z_test(users_on_offers_screen, unique_users, alpha_bonferroni)"
   ]
  },
  {
   "cell_type": "markdown",
   "id": "6f3b9512",
   "metadata": {},
   "source": [
    "**Нулевая гипотеза**: доли клиентов на странице корзины одинаковы в обеих группах.\n",
    "\n",
    "**Альтернативная гипотеза**: доли клиентов на странице корзины в группах неравны."
   ]
  },
  {
   "cell_type": "code",
   "execution_count": 55,
   "id": "1bf31e7b",
   "metadata": {},
   "outputs": [],
   "source": [
    "# количество пользователей на странице корзины по группам\n",
    "users_on_cart_screen = np.array([\n",
    "    logs[(logs.exp_id == 246) & (logs.event_name == 'CartScreenAppear')].device_id_hash.nunique(),\n",
    "    logs[(logs.exp_id == 247) & (logs.event_name == 'CartScreenAppear')].device_id_hash.nunique()\n",
    "])"
   ]
  },
  {
   "cell_type": "code",
   "execution_count": 56,
   "id": "b050deca",
   "metadata": {},
   "outputs": [
    {
     "name": "stdout",
     "output_type": "stream",
     "text": [
      "p-значение:  0.22867643757335676\n",
      "Не получилось отвергнуть нулевую гипотезу, нет оснований считать доли разными\n"
     ]
    }
   ],
   "source": [
    "z_test(users_on_cart_screen, unique_users, alpha_bonferroni)"
   ]
  },
  {
   "cell_type": "markdown",
   "id": "1db94173",
   "metadata": {},
   "source": [
    "**Нулевая гипотеза**: доли клиентов с оплатой одинаковы в обеих группах.\n",
    "\n",
    "**Альтернативная гипотеза**: доли клиентов с оплатой в группах неравны."
   ]
  },
  {
   "cell_type": "code",
   "execution_count": 57,
   "id": "58aa277a",
   "metadata": {},
   "outputs": [],
   "source": [
    "# количество пользователей с оплатой по группам\n",
    "users_with_payment = np.array([\n",
    "    logs[(logs.exp_id == 246) & (logs.event_name == 'PaymentScreenSuccessful')].device_id_hash.nunique(),\n",
    "    logs[(logs.exp_id == 247) & (logs.event_name == 'PaymentScreenSuccessful')].device_id_hash.nunique()\n",
    "])"
   ]
  },
  {
   "cell_type": "code",
   "execution_count": 58,
   "id": "5c55ad88",
   "metadata": {},
   "outputs": [
    {
     "name": "stdout",
     "output_type": "stream",
     "text": [
      "p-значение:  0.11446627829276612\n",
      "Не получилось отвергнуть нулевую гипотезу, нет оснований считать доли разными\n"
     ]
    }
   ],
   "source": [
    "z_test(users_with_payment, unique_users, alpha_bonferroni)"
   ]
  },
  {
   "cell_type": "markdown",
   "id": "01610b81",
   "metadata": {},
   "source": [
    "Таким образом, все тесты показали, что нет оснований отвергать нулевую гипотезу, т.е. нет статистически значимых различий в долях клиентов на каждом этапе воронки в обеих группах A (246 и 247)."
   ]
  },
  {
   "cell_type": "markdown",
   "id": "93b16019",
   "metadata": {},
   "source": [
    "### A/B тест (группы 246 и 248)"
   ]
  },
  {
   "cell_type": "markdown",
   "id": "09bf123e",
   "metadata": {},
   "source": [
    "Будем проверять доли клиентов на каждом из этапов для групп А/B-эксперимента (**246** и **248**)."
   ]
  },
  {
   "cell_type": "markdown",
   "id": "fb7c3f45",
   "metadata": {},
   "source": [
    "**Нулевая гипотеза**: доли клиентов на главной странице одинаковы в обеих группах.\n",
    "\n",
    "**Альтернативная гипотеза**: доли клиентов на главной странице в группах неравны."
   ]
  },
  {
   "cell_type": "code",
   "execution_count": 59,
   "id": "c837dcf2",
   "metadata": {},
   "outputs": [],
   "source": [
    "# общее количество пользователей в группах\n",
    "unique_users = np.array([\n",
    "    logs[logs.exp_id == 246].device_id_hash.nunique(),\n",
    "    logs[logs.exp_id == 248].device_id_hash.nunique()\n",
    "])"
   ]
  },
  {
   "cell_type": "code",
   "execution_count": 60,
   "id": "59cf9b13",
   "metadata": {},
   "outputs": [],
   "source": [
    "# количество пользователей на главной странице по группам\n",
    "users_on_main_screen = np.array([\n",
    "    logs[(logs.exp_id == 246) & (logs.event_name == 'MainScreenAppear')].device_id_hash.nunique(),\n",
    "    logs[(logs.exp_id == 248) & (logs.event_name == 'MainScreenAppear')].device_id_hash.nunique()\n",
    "])"
   ]
  },
  {
   "cell_type": "code",
   "execution_count": 61,
   "id": "5a274108",
   "metadata": {},
   "outputs": [
    {
     "name": "stdout",
     "output_type": "stream",
     "text": [
      "p-значение:  0.3387114076159288\n",
      "Не получилось отвергнуть нулевую гипотезу, нет оснований считать доли разными\n"
     ]
    }
   ],
   "source": [
    "z_test(users_on_main_screen, unique_users, alpha_bonferroni)"
   ]
  },
  {
   "cell_type": "markdown",
   "id": "4f3c0ba4",
   "metadata": {},
   "source": [
    "**Нулевая гипотеза**: доли клиентов на странице предложений одинаковы в обеих группах.\n",
    "\n",
    "**Альтернативная гипотеза**: доли клиентов на странице предложений в группах неравны."
   ]
  },
  {
   "cell_type": "code",
   "execution_count": 62,
   "id": "2acd88c2",
   "metadata": {},
   "outputs": [],
   "source": [
    "# количество пользователей на странице предложений по группам\n",
    "users_on_offers_screen = np.array([\n",
    "    logs[(logs.exp_id == 246) & (logs.event_name == 'OffersScreenAppear')].device_id_hash.nunique(),\n",
    "    logs[(logs.exp_id == 248) & (logs.event_name == 'OffersScreenAppear')].device_id_hash.nunique()\n",
    "])"
   ]
  },
  {
   "cell_type": "code",
   "execution_count": 63,
   "id": "ce463e61",
   "metadata": {},
   "outputs": [
    {
     "name": "stdout",
     "output_type": "stream",
     "text": [
      "p-значение:  0.21442476639710506\n",
      "Не получилось отвергнуть нулевую гипотезу, нет оснований считать доли разными\n"
     ]
    }
   ],
   "source": [
    "z_test(users_on_offers_screen, unique_users, alpha_bonferroni)"
   ]
  },
  {
   "cell_type": "markdown",
   "id": "27b3dda8",
   "metadata": {},
   "source": [
    "**Нулевая гипотеза**: доли клиентов на странице корзины одинаковы в обеих группах.\n",
    "\n",
    "**Альтернативная гипотеза**: доли клиентов на странице корзины в группах неравны."
   ]
  },
  {
   "cell_type": "code",
   "execution_count": 64,
   "id": "ebe5f751",
   "metadata": {},
   "outputs": [],
   "source": [
    "# количество пользователей на странице корзины по группам\n",
    "users_on_cart_screen = np.array([\n",
    "    logs[(logs.exp_id == 246) & (logs.event_name == 'CartScreenAppear')].device_id_hash.nunique(),\n",
    "    logs[(logs.exp_id == 248) & (logs.event_name == 'CartScreenAppear')].device_id_hash.nunique()\n",
    "])"
   ]
  },
  {
   "cell_type": "code",
   "execution_count": 65,
   "id": "9ff6d656",
   "metadata": {},
   "outputs": [
    {
     "name": "stdout",
     "output_type": "stream",
     "text": [
      "p-значение:  0.08067367598823139\n",
      "Не получилось отвергнуть нулевую гипотезу, нет оснований считать доли разными\n"
     ]
    }
   ],
   "source": [
    "z_test(users_on_cart_screen, unique_users, alpha_bonferroni)"
   ]
  },
  {
   "cell_type": "markdown",
   "id": "d1d8b206",
   "metadata": {},
   "source": [
    "**Нулевая гипотеза**: доли клиентов с оплатой одинаковы в обеих группах.\n",
    "\n",
    "**Альтернативная гипотеза**: доли клиентов с оплатой в группах неравны."
   ]
  },
  {
   "cell_type": "code",
   "execution_count": 66,
   "id": "085bbb43",
   "metadata": {},
   "outputs": [],
   "source": [
    "# количество пользователей с оплатой по группам\n",
    "users_with_payment = np.array([\n",
    "    logs[(logs.exp_id == 246) & (logs.event_name == 'PaymentScreenSuccessful')].device_id_hash.nunique(),\n",
    "    logs[(logs.exp_id == 248) & (logs.event_name == 'PaymentScreenSuccessful')].device_id_hash.nunique()\n",
    "])"
   ]
  },
  {
   "cell_type": "code",
   "execution_count": 67,
   "id": "b9eb183d",
   "metadata": {},
   "outputs": [
    {
     "name": "stdout",
     "output_type": "stream",
     "text": [
      "p-значение:  0.21693033984516674\n",
      "Не получилось отвергнуть нулевую гипотезу, нет оснований считать доли разными\n"
     ]
    }
   ],
   "source": [
    "z_test(users_with_payment, unique_users, alpha_bonferroni)"
   ]
  },
  {
   "cell_type": "markdown",
   "id": "a0fe5112",
   "metadata": {},
   "source": [
    "При A/B тестировании все тесты показали, что статистически значимых различий между долями пользователей на каждом этапе в группах нет. Это говорит о том, что изменение шрифтов не влияет на поведение пользователей. Но проведем еще тесты между второй группой А и B и объединенной группой A+A и B."
   ]
  },
  {
   "cell_type": "markdown",
   "id": "1d9c3e74",
   "metadata": {},
   "source": [
    "### A/B тест (группы 247 и 248)"
   ]
  },
  {
   "cell_type": "markdown",
   "id": "46f50f6b",
   "metadata": {},
   "source": [
    "Будем проверять доли клиентов на каждом из этапов для групп А/B-эксперимента (**247** и **248**)."
   ]
  },
  {
   "cell_type": "markdown",
   "id": "4be27e75",
   "metadata": {},
   "source": [
    "**Нулевая гипотеза**: доли клиентов на главной странице одинаковы в обеих группах.\n",
    "\n",
    "**Альтернативная гипотеза**: доли клиентов на главной странице в группах неравны."
   ]
  },
  {
   "cell_type": "code",
   "execution_count": 68,
   "id": "66116203",
   "metadata": {},
   "outputs": [],
   "source": [
    "# общее количество пользователей в группах\n",
    "unique_users = np.array([\n",
    "    logs[logs.exp_id == 247].device_id_hash.nunique(),\n",
    "    logs[logs.exp_id == 248].device_id_hash.nunique()\n",
    "])"
   ]
  },
  {
   "cell_type": "code",
   "execution_count": 69,
   "id": "02792ea3",
   "metadata": {},
   "outputs": [],
   "source": [
    "# количество пользователей на главной странице по группам\n",
    "users_on_main_screen = np.array([\n",
    "    logs[(logs.exp_id == 247) & (logs.event_name == 'MainScreenAppear')].device_id_hash.nunique(),\n",
    "    logs[(logs.exp_id == 248) & (logs.event_name == 'MainScreenAppear')].device_id_hash.nunique()\n",
    "])"
   ]
  },
  {
   "cell_type": "code",
   "execution_count": 70,
   "id": "0ba2b889",
   "metadata": {},
   "outputs": [
    {
     "name": "stdout",
     "output_type": "stream",
     "text": [
      "p-значение:  0.5194964354051703\n",
      "Не получилось отвергнуть нулевую гипотезу, нет оснований считать доли разными\n"
     ]
    }
   ],
   "source": [
    "z_test(users_on_main_screen, unique_users, alpha_bonferroni)"
   ]
  },
  {
   "cell_type": "markdown",
   "id": "1dcfe073",
   "metadata": {},
   "source": [
    "**Нулевая гипотеза**: доли клиентов на странице предложений одинаковы в обеих группах.\n",
    "\n",
    "**Альтернативная гипотеза**: доли клиентов на странице предложений в группах неравны."
   ]
  },
  {
   "cell_type": "code",
   "execution_count": 71,
   "id": "36f563c4",
   "metadata": {},
   "outputs": [],
   "source": [
    "# количество пользователей на странице предложений по группам\n",
    "users_on_offers_screen = np.array([\n",
    "    logs[(logs.exp_id == 247) & (logs.event_name == 'OffersScreenAppear')].device_id_hash.nunique(),\n",
    "    logs[(logs.exp_id == 248) & (logs.event_name == 'OffersScreenAppear')].device_id_hash.nunique()\n",
    "])"
   ]
  },
  {
   "cell_type": "code",
   "execution_count": 72,
   "id": "143cc880",
   "metadata": {},
   "outputs": [
    {
     "name": "stdout",
     "output_type": "stream",
     "text": [
      "p-значение:  0.9333751305879443\n",
      "Не получилось отвергнуть нулевую гипотезу, нет оснований считать доли разными\n"
     ]
    }
   ],
   "source": [
    "z_test(users_on_offers_screen, unique_users, alpha_bonferroni)"
   ]
  },
  {
   "cell_type": "markdown",
   "id": "211ece7a",
   "metadata": {},
   "source": [
    "**Нулевая гипотеза**: доли клиентов на странице корзины одинаковы в обеих группах.\n",
    "\n",
    "**Альтернативная гипотеза**: доли клиентов на странице корзины в группах неравны."
   ]
  },
  {
   "cell_type": "code",
   "execution_count": 73,
   "id": "8ccf52c0",
   "metadata": {},
   "outputs": [],
   "source": [
    "# количество пользователей на странице корзины по группам\n",
    "users_on_cart_screen = np.array([\n",
    "    logs[(logs.exp_id == 247) & (logs.event_name == 'CartScreenAppear')].device_id_hash.nunique(),\n",
    "    logs[(logs.exp_id == 248) & (logs.event_name == 'CartScreenAppear')].device_id_hash.nunique()\n",
    "])"
   ]
  },
  {
   "cell_type": "code",
   "execution_count": 74,
   "id": "3747621f",
   "metadata": {},
   "outputs": [
    {
     "name": "stdout",
     "output_type": "stream",
     "text": [
      "p-значение:  0.5878284605111943\n",
      "Не получилось отвергнуть нулевую гипотезу, нет оснований считать доли разными\n"
     ]
    }
   ],
   "source": [
    "z_test(users_on_cart_screen, unique_users, alpha_bonferroni)"
   ]
  },
  {
   "cell_type": "markdown",
   "id": "23216667",
   "metadata": {},
   "source": [
    "**Нулевая гипотеза**: доли клиентов с оплатой одинаковы в обеих группах.\n",
    "\n",
    "**Альтернативная гипотеза**: доли клиентов с оплатой в группах неравны."
   ]
  },
  {
   "cell_type": "code",
   "execution_count": 75,
   "id": "33556d7c",
   "metadata": {},
   "outputs": [],
   "source": [
    "# количество пользователей с оплатой по группам\n",
    "users_with_payment = np.array([\n",
    "    logs[(logs.exp_id == 247) & (logs.event_name == 'PaymentScreenSuccessful')].device_id_hash.nunique(),\n",
    "    logs[(logs.exp_id == 248) & (logs.event_name == 'PaymentScreenSuccessful')].device_id_hash.nunique()\n",
    "])"
   ]
  },
  {
   "cell_type": "code",
   "execution_count": 76,
   "id": "6c97308c",
   "metadata": {},
   "outputs": [
    {
     "name": "stdout",
     "output_type": "stream",
     "text": [
      "p-значение:  0.7275718682261119\n",
      "Не получилось отвергнуть нулевую гипотезу, нет оснований считать доли разными\n"
     ]
    }
   ],
   "source": [
    "z_test(users_with_payment, unique_users, alpha_bonferroni)"
   ]
  },
  {
   "cell_type": "markdown",
   "id": "54fb90dd",
   "metadata": {},
   "source": [
    "При A/B тестировании со второй группой А все тесты также показали, что статистически значимых различий между долями пользователей на каждом этапе в этих группах нет."
   ]
  },
  {
   "cell_type": "markdown",
   "id": "1e64dfcf",
   "metadata": {},
   "source": [
    "### A+A/B тест (группы 246+247 и 248)"
   ]
  },
  {
   "cell_type": "markdown",
   "id": "088f079f",
   "metadata": {},
   "source": [
    "Теперь соединим две группы А (246 и 247) и проведем A/B эксперимент для сравнения долей клиентов на каждом из этапов воронки."
   ]
  },
  {
   "cell_type": "markdown",
   "id": "2115c1df",
   "metadata": {},
   "source": [
    "**Нулевая гипотеза**: доли клиентов на главной странице одинаковы в обеих группах.\n",
    "\n",
    "**Альтернативная гипотеза**: доли клиентов на главной странице в группах неравны."
   ]
  },
  {
   "cell_type": "code",
   "execution_count": 77,
   "id": "36cb9800",
   "metadata": {},
   "outputs": [],
   "source": [
    "# общее количество пользователей в группах\n",
    "unique_users = np.array([\n",
    "    logs[(logs.exp_id == 246) | (logs.exp_id == 247)].device_id_hash.nunique(),\n",
    "    logs[logs.exp_id == 248].device_id_hash.nunique()\n",
    "])"
   ]
  },
  {
   "cell_type": "code",
   "execution_count": 78,
   "id": "e26ac475",
   "metadata": {},
   "outputs": [],
   "source": [
    "# количество пользователей на главной странице по группам\n",
    "users_on_main_screen = np.array([\n",
    "    logs[((logs.exp_id == 246) | (logs.exp_id == 247)) & (logs.event_name == 'MainScreenAppear')].device_id_hash.nunique(),\n",
    "    logs[(logs.exp_id == 248) & (logs.event_name == 'MainScreenAppear')].device_id_hash.nunique()\n",
    "])"
   ]
  },
  {
   "cell_type": "code",
   "execution_count": 79,
   "id": "0b7c6b84",
   "metadata": {
    "scrolled": true
   },
   "outputs": [
    {
     "name": "stdout",
     "output_type": "stream",
     "text": [
      "p-значение:  0.3486684291093256\n",
      "Не получилось отвергнуть нулевую гипотезу, нет оснований считать доли разными\n"
     ]
    }
   ],
   "source": [
    "z_test(users_on_main_screen, unique_users, alpha_bonferroni)"
   ]
  },
  {
   "cell_type": "markdown",
   "id": "290d6a8f",
   "metadata": {},
   "source": [
    "**Нулевая гипотеза**: доли клиентов на странице предложений одинаковы в обеих группах.\n",
    "\n",
    "**Альтернативная гипотеза**: доли клиентов на странице предложений в группах неравны."
   ]
  },
  {
   "cell_type": "code",
   "execution_count": 80,
   "id": "13361d32",
   "metadata": {},
   "outputs": [],
   "source": [
    "# количество пользователей на странице предложений по группам\n",
    "users_on_offers_screen = np.array([\n",
    "    logs[((logs.exp_id == 246) | (logs.exp_id == 247)) & (logs.event_name == 'OffersScreenAppear')].device_id_hash.nunique(),\n",
    "    logs[(logs.exp_id == 248) & (logs.event_name == 'OffersScreenAppear')].device_id_hash.nunique()\n",
    "])"
   ]
  },
  {
   "cell_type": "code",
   "execution_count": 81,
   "id": "145cb5cb",
   "metadata": {},
   "outputs": [
    {
     "name": "stdout",
     "output_type": "stream",
     "text": [
      "p-значение:  0.44582745409482394\n",
      "Не получилось отвергнуть нулевую гипотезу, нет оснований считать доли разными\n"
     ]
    }
   ],
   "source": [
    "z_test(users_on_offers_screen, unique_users, alpha_bonferroni)"
   ]
  },
  {
   "cell_type": "markdown",
   "id": "e050291b",
   "metadata": {},
   "source": [
    "**Нулевая гипотеза**: доли клиентов на странице корзины одинаковы в обеих группах.\n",
    "\n",
    "**Альтернативная гипотеза**: доли клиентов на странице корзины в группах неравны."
   ]
  },
  {
   "cell_type": "code",
   "execution_count": 82,
   "id": "d09db279",
   "metadata": {},
   "outputs": [],
   "source": [
    "# количество пользователей на странице корзины по группам\n",
    "users_on_cart_screen = np.array([\n",
    "    logs[((logs.exp_id == 246) | (logs.exp_id == 247)) & (logs.event_name == 'CartScreenAppear')].device_id_hash.nunique(),\n",
    "    logs[(logs.exp_id == 248) & (logs.event_name == 'CartScreenAppear')].device_id_hash.nunique()\n",
    "])"
   ]
  },
  {
   "cell_type": "code",
   "execution_count": 83,
   "id": "2463e680",
   "metadata": {},
   "outputs": [
    {
     "name": "stdout",
     "output_type": "stream",
     "text": [
      "p-значение:  0.18683558686831558\n",
      "Не получилось отвергнуть нулевую гипотезу, нет оснований считать доли разными\n"
     ]
    }
   ],
   "source": [
    "z_test(users_on_cart_screen, unique_users, alpha_bonferroni)"
   ]
  },
  {
   "cell_type": "markdown",
   "id": "e0b565ff",
   "metadata": {},
   "source": [
    "**Нулевая гипотеза**: доли клиентов с оплатой одинаковы в обеих группах.\n",
    "\n",
    "**Альтернативная гипотеза**: доли клиентов с оплатой в группах неравны."
   ]
  },
  {
   "cell_type": "code",
   "execution_count": 84,
   "id": "9bbb1a0c",
   "metadata": {},
   "outputs": [],
   "source": [
    "# количество пользователей с оплатой по группам\n",
    "users_with_payment = np.array([\n",
    "    logs[((logs.exp_id == 246) | (logs.exp_id == 247)) & (logs.event_name == 'PaymentScreenSuccessful')].device_id_hash.nunique(),\n",
    "    logs[(logs.exp_id == 248) & (logs.event_name == 'PaymentScreenSuccessful')].device_id_hash.nunique()\n",
    "])"
   ]
  },
  {
   "cell_type": "code",
   "execution_count": 85,
   "id": "b183cb01",
   "metadata": {},
   "outputs": [
    {
     "name": "stdout",
     "output_type": "stream",
     "text": [
      "p-значение:  0.6107918742187335\n",
      "Не получилось отвергнуть нулевую гипотезу, нет оснований считать доли разными\n"
     ]
    }
   ],
   "source": [
    "z_test(users_with_payment, unique_users, alpha_bonferroni)"
   ]
  },
  {
   "cell_type": "markdown",
   "id": "81d827bc",
   "metadata": {},
   "source": [
    "При сравнивании долей пользователей на каждом этапе воронки между объединенными группами А и группой B, также все тесты показали, что нет статистически значимых различий между этими долями."
   ]
  },
  {
   "cell_type": "markdown",
   "id": "cd665bc0",
   "metadata": {},
   "source": [
    "Мы проводили все тесты с учетом поправки Бонферрони на множественные сравнения. Если бы мы применили более высокое значение уровня статистической значимости в 0.1, то получили бы один ложный результат (при сравнении доли клиентов на странице предложений между группами 246 и 248, p-value = 0.08), однако все остальные полученные значения удовлетворяют даже этому условию."
   ]
  },
  {
   "cell_type": "markdown",
   "id": "6eab0c8c",
   "metadata": {},
   "source": [
    "## Выводы"
   ]
  },
  {
   "cell_type": "markdown",
   "id": "d702c8b2",
   "metadata": {},
   "source": [
    "### Данные"
   ]
  },
  {
   "cell_type": "markdown",
   "id": "1d016795",
   "metadata": {},
   "source": [
    "* В представленных данных нет пропущенных значений\n",
    "* Не обнаружено пользователей, попавших в разные тестовые группы\n",
    "* Полные данные представленны за период c `1 августа 2019 года` по `7 августа 2019 года`, данные за другой период удалены\n",
    "* После предобработки удалено `413` повторяющихся записей (`0.17%` всех данных)\n",
    "* Сведения, о посещении пользователями руководства (`Tutorial`) не влияют на прохождение воронки, поэтому эти данные также удалены (`0.42%` всех событий)\n",
    "* Каждый пользователь в среднем совершает более `32` действий\n",
    "\n",
    "Всего оставлено `98.26%` записей, что также соответствует `99.72%` всех пользователей.\n",
    "В наличии три тестовые группы пользователей:\n",
    "* группа **246** (`A`) - `78985` события `2483` пользователей\n",
    "* группа **247** (`A`) - `76684` события `2512` пользователей\n",
    "* группа **248** (`B`) - `84213` события `2535` пользователей"
   ]
  },
  {
   "cell_type": "markdown",
   "id": "54699a11",
   "metadata": {},
   "source": [
    "### Воронка событий"
   ]
  },
  {
   "cell_type": "markdown",
   "id": "2dcf87aa",
   "metadata": {},
   "source": [
    "Воронка событий определена в такой последовательности:\n",
    "1. посещение пользователем главной страницы `MainScreenAppear`\n",
    "2. посещение пользователем страницы с предложениями `OffersScreenAppear`\n",
    "3. посещение пользователем корзины `CartScreenAppear`\n",
    "4. совершение пользователем оплаты `PaymentScreenSuccessful`\n",
    "\n",
    "Почти все пользователи посещают главную страницу (`98.53%`). Больше всего пользователей теряется при переходе от главной страницы к странице с предложениями - только `61%` пользователей попадает на страницу с предложениями. В корзине оказывается `50%` пользователей, а оплату совершают `47%` пользователей. Потери при переходе со страницы предложений в корзину и из корзины к оплате невелики - менее `19%` и `5%` соответственно."
   ]
  },
  {
   "cell_type": "markdown",
   "id": "f2e4c6d8",
   "metadata": {},
   "source": [
    "### Эксперимент"
   ]
  },
  {
   "cell_type": "markdown",
   "id": "653ee242",
   "metadata": {},
   "source": [
    "Проанализировали результаты A/A/B-эксперимента. В двух группах А находились пользователи, у которых оставались прежние шрифты в приложении. В групее B находились пользователи, у которых приложение было с новыми шрифтами. Проводили множественные сравнения для проверки гипотез о равенстве долей пользователей на каждом из этапов воронки между группами (между группой А и второй группой A, между первой группой A и B, между второй группой A и B, между объединенной группой из двух групп A и группой B). Проводили Z-тест с уровнем статистической значимости 0.05 и применением поправки Бонферрони на множественный тест.\n",
    "* A/A тесты показали, что нет статистически значимых оснований считать, что доли пользователей на этапах воронки в группах различаются. Таким образом, можно говорить, что данные были собраны корректно.\n",
    "* A/B тесты с каждой из групп A и также с объединенной группой из двух групп A показали, что нет статистически значимых оснований считать, что доли пользователей на каждом из этапов воронки в каждой из групп отличаются.\n",
    "\n",
    "Таким образом, можно сделать вывод, что **изменение шрифтов в приложении не повлияло на поведение пользователей**, можно производить смену шрифтов, не опасаясь, что пользователям будет непривычно. Однако и к увеличению продаж смена шрифта не приводит."
   ]
  }
 ],
 "metadata": {
  "kernelspec": {
   "display_name": "Python 3 (ipykernel)",
   "language": "python",
   "name": "python3"
  },
  "language_info": {
   "codemirror_mode": {
    "name": "ipython",
    "version": 3
   },
   "file_extension": ".py",
   "mimetype": "text/x-python",
   "name": "python",
   "nbconvert_exporter": "python",
   "pygments_lexer": "ipython3",
   "version": "3.10.4"
  },
  "toc": {
   "base_numbering": "1",
   "nav_menu": {},
   "number_sections": true,
   "sideBar": true,
   "skip_h1_title": true,
   "title_cell": "",
   "title_sidebar": "Contents",
   "toc_cell": true,
   "toc_position": {
    "height": "calc(100% - 180px)",
    "left": "10px",
    "top": "150px",
    "width": "165px"
   },
   "toc_section_display": true,
   "toc_window_display": true
  }
 },
 "nbformat": 4,
 "nbformat_minor": 5
}
